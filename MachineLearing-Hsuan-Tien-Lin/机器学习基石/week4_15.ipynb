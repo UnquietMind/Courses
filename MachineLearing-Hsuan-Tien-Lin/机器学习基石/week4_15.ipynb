{
 "cells": [
  {
   "cell_type": "markdown",
   "metadata": {},
   "source": [
    "### 机器学习基石上-林轩田\n",
    "##### https://www.coursera.org/learn/ntumlone-mathematicalfoundations/home/welcome\n",
    "##### 第四周作业第15题实现"
   ]
  },
  {
   "cell_type": "markdown",
   "metadata": {},
   "source": [
    "![15](week4_15.png)"
   ]
  },
  {
   "cell_type": "code",
   "execution_count": 2,
   "metadata": {},
   "outputs": [],
   "source": [
    "import numpy as np\n",
    "data = np.loadtxt('week4_15_data.txt')"
   ]
  },
  {
   "cell_type": "code",
   "execution_count": 3,
   "metadata": {},
   "outputs": [
    {
     "data": {
      "text/plain": [
       "(400, 5)"
      ]
     },
     "execution_count": 3,
     "metadata": {},
     "output_type": "execute_result"
    }
   ],
   "source": [
    "data.shape"
   ]
  },
  {
   "cell_type": "code",
   "execution_count": 25,
   "metadata": {},
   "outputs": [],
   "source": [
    "N, M = data.shape\n",
    "X, y = data[:,:M-1], data[:,M-1:M]\n",
    "one = np.ones([1,N])\n",
    "X = np.insert(X, 0, values=one, axis=1) #insert 1 to first colum"
   ]
  },
  {
   "cell_type": "code",
   "execution_count": 26,
   "metadata": {},
   "outputs": [
    {
     "data": {
      "text/plain": [
       "(400, 5)"
      ]
     },
     "execution_count": 26,
     "metadata": {},
     "output_type": "execute_result"
    }
   ],
   "source": [
    "X.shape"
   ]
  },
  {
   "cell_type": "code",
   "execution_count": 27,
   "metadata": {},
   "outputs": [
    {
     "data": {
      "text/plain": [
       "(400, 1)"
      ]
     },
     "execution_count": 27,
     "metadata": {},
     "output_type": "execute_result"
    }
   ],
   "source": [
    "y.shape"
   ]
  },
  {
   "cell_type": "code",
   "execution_count": 28,
   "metadata": {},
   "outputs": [],
   "source": [
    "def sign(z):\n",
    "    if z > 0:\n",
    "        return 0\n",
    "    else:\n",
    "        return 1"
   ]
  },
  {
   "cell_type": "code",
   "execution_count": 97,
   "metadata": {},
   "outputs": [],
   "source": [
    "def PLA(X, y):\n",
    "    N, M = X.shape\n",
    "    W = np.zeros((M, 1))\n",
    "    flag = 1\n",
    "    index = 0\n",
    "    right_items = 0\n",
    "    count = 0\n",
    "    while(flag):\n",
    "        z = y[index] * np.dot(X[index], W)[0]\n",
    "        if sign(z):\n",
    "            W = W + y[index][0] * np.mat(X[index]).T\n",
    "            \n",
    "            right_items = 0\n",
    "            count += 1\n",
    "        else:\n",
    "            right_items += 1\n",
    "            \n",
    "        if right_items >= N:\n",
    "            flag = 0\n",
    "        elif index >= N-1:\n",
    "            index = 0\n",
    "        else:\n",
    "            index += 1\n",
    "            \n",
    "    return count"
   ]
  },
  {
   "cell_type": "code",
   "execution_count": 98,
   "metadata": {},
   "outputs": [
    {
     "name": "stdout",
     "output_type": "stream",
     "text": [
      "45\n"
     ]
    }
   ],
   "source": [
    "print(PLA(X,y))"
   ]
  },
  {
   "cell_type": "markdown",
   "metadata": {},
   "source": [
    "### 卡耐基梅隆大学 2018 秋季《深度学习导论》，Bhiksha Raj\n",
    "### http://deeplearning.cs.cmu.edu/\n",
    "### lecture 3, http://www.mooc.ai/course/562/learn?lessonid=2916#lesson/2916"
   ]
  },
  {
   "cell_type": "markdown",
   "metadata": {},
   "source": [
    "![15](PLA.png)"
   ]
  },
  {
   "cell_type": "code",
   "execution_count": null,
   "metadata": {},
   "outputs": [],
   "source": []
  }
 ],
 "metadata": {
  "kernelspec": {
   "display_name": "Python 3",
   "language": "python",
   "name": "python3"
  },
  "language_info": {
   "codemirror_mode": {
    "name": "ipython",
    "version": 3
   },
   "file_extension": ".py",
   "mimetype": "text/x-python",
   "name": "python",
   "nbconvert_exporter": "python",
   "pygments_lexer": "ipython3",
   "version": "3.6.6"
  }
 },
 "nbformat": 4,
 "nbformat_minor": 2
}
