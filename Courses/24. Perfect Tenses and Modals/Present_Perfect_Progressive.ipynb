{
  "nbformat": 4,
  "nbformat_minor": 0,
  "metadata": {
    "colab": {
      "name": "Present Perfect Progressive.ipynb",
      "version": "0.3.2",
      "provenance": [],
      "collapsed_sections": []
    },
    "kernelspec": {
      "display_name": "Python 3",
      "language": "python",
      "name": "python3"
    }
  },
  "cells": [
    {
      "metadata": {
        "id": "GZ1w7YbYboUq",
        "colab_type": "text"
      },
      "cell_type": "markdown",
      "source": [
        "### Stative Verbs(non-action verbs)"
      ]
    },
    {
      "metadata": {
        "id": "d2sAMA1NboUs",
        "colab_type": "text"
      },
      "cell_type": "markdown",
      "source": [
        "1. I <font color=red>see</font> people everywhere.\n",
        "2. I <font color=red>hear</font> children laughing and people talking.\n",
        "3. This man <font color=red>perfers</font> the shade.\n",
        "4. This woman <font color=red>likes</font> the sun."
      ]
    },
    {
      "metadata": {
        "id": "PVTw1KQ6boUt",
        "colab_type": "text"
      },
      "cell_type": "markdown",
      "source": [
        "#### 1. They do not express an action.\n",
        "#### 2. They express a state.\n",
        "#### 3. We use them to talk about thoughts, emotions, senses and state of being. not use them to talk about actions."
      ]
    },
    {
      "metadata": {
        "id": "pU3ZvcIyboUu",
        "colab_type": "text"
      },
      "cell_type": "markdown",
      "source": [
        "#### Mary <font color=red>believes</font> that sun can make her happy."
      ]
    },
    {
      "metadata": {
        "id": "iRSuw3-yboUv",
        "colab_type": "text"
      },
      "cell_type": "markdown",
      "source": [
        "->thoughts, also like: agree, remember, understand, perfer and know."
      ]
    },
    {
      "metadata": {
        "id": "ZT7qunYCboUv",
        "colab_type": "text"
      },
      "cell_type": "markdown",
      "source": [
        "#### John <font color=red>hates</font> the sun, so he is sitting in the shade."
      ]
    },
    {
      "metadata": {
        "id": "Z9qImqiZboUw",
        "colab_type": "text"
      },
      "cell_type": "markdown",
      "source": [
        "->emotions, also like: love, like, dislike."
      ]
    },
    {
      "metadata": {
        "id": "6_kIztJVboUx",
        "colab_type": "text"
      },
      "cell_type": "markdown",
      "source": [
        "#### Mmm this grass <font color=red>tastes</font> good!"
      ]
    },
    {
      "metadata": {
        "id": "xQXsEepOboUy",
        "colab_type": "text"
      },
      "cell_type": "markdown",
      "source": [
        "->senses, also like: hear, smell, sound, see, feel, look"
      ]
    },
    {
      "metadata": {
        "id": "764fsTxlboUy",
        "colab_type": "text"
      },
      "cell_type": "markdown",
      "source": [
        "#### Almost everyone <font color=red>has</font> a hat."
      ]
    },
    {
      "metadata": {
        "id": "3xzxjKRJboUz",
        "colab_type": "text"
      },
      "cell_type": "markdown",
      "source": [
        "->state of being, also like: be, appear, need, want"
      ]
    },
    {
      "metadata": {
        "id": "qx878W7aboU0",
        "colab_type": "text"
      },
      "cell_type": "markdown",
      "source": [
        "### Notation: Do not use verbs that express states with -ing."
      ]
    },
    {
      "metadata": {
        "id": "ebPyl7_MboU1",
        "colab_type": "text"
      },
      "cell_type": "markdown",
      "source": [
        "1. The music <font color=red>sounds</font> beautiful!\n",
        "2. Who <font color=red>wants</font> something to drink?\n",
        "3. You <font color=red>are</font> so handsome.\n",
        "4. Do you <font color=red>hear</font> that?\n",
        "5. Do you <font color=red>know</font> where Mom went?"
      ]
    },
    {
      "metadata": {
        "id": "Jcd2txm2boU1",
        "colab_type": "text"
      },
      "cell_type": "markdown",
      "source": [
        "### Wrong: sounding,wanting,being,hearing,knowing"
      ]
    },
    {
      "metadata": {
        "id": "CqSOX_OqboU2",
        "colab_type": "text"
      },
      "cell_type": "markdown",
      "source": [
        "### Action verbs may be used with -ing."
      ]
    },
    {
      "metadata": {
        "id": "PqzqZfyuboU3",
        "colab_type": "text"
      },
      "cell_type": "markdown",
      "source": [
        "1. They are <font color=red>listening</font> to music.\n",
        "2. They are <font color=red>eating</font> food.\n",
        "3. A man <font color=red>singing</font>."
      ]
    },
    {
      "metadata": {
        "id": "XeuqORVtboU4",
        "colab_type": "text"
      },
      "cell_type": "markdown",
      "source": [
        "### Exceptions:"
      ]
    },
    {
      "metadata": {
        "id": "70cTLxqNboU4",
        "colab_type": "text"
      },
      "cell_type": "markdown",
      "source": [
        "#### some verbs can express both states and actions, depending on the context."
      ]
    },
    {
      "metadata": {
        "id": "-hxOdnv2boU5",
        "colab_type": "text"
      },
      "cell_type": "markdown",
      "source": [
        "##### think (action or state)"
      ]
    },
    {
      "metadata": {
        "id": "vilL640gboU6",
        "colab_type": "text"
      },
      "cell_type": "markdown",
      "source": [
        "Action:\n",
        "1. He <font color=red>is thinking</font> about lunch.\n",
        "2. He is <font color=red>not thinking</font> about class."
      ]
    },
    {
      "metadata": {
        "id": "lqSG4HcwboU7",
        "colab_type": "text"
      },
      "cell_type": "markdown",
      "source": [
        "State:  \n",
        "She <font color=red>thinks</font> the teacher is boring."
      ]
    },
    {
      "metadata": {
        "id": "yGdXsMlcboU8",
        "colab_type": "text"
      },
      "cell_type": "markdown",
      "source": [
        "##### Be(action or state)"
      ]
    },
    {
      "metadata": {
        "id": "Di4aZTDXboU9",
        "colab_type": "text"
      },
      "cell_type": "markdown",
      "source": [
        "Action:  \n",
        "Bob is usually a good student, but today he <font color=red>is being</font> disrespectful."
      ]
    },
    {
      "metadata": {
        "id": "8oM7irVnboU-",
        "colab_type": "text"
      },
      "cell_type": "markdown",
      "source": [
        "State:  \n",
        "Alex <font color=red>is</font> the youngest in the class."
      ]
    },
    {
      "metadata": {
        "id": "YTYhATfAboU_",
        "colab_type": "text"
      },
      "cell_type": "markdown",
      "source": [
        "##### have (action or state)"
      ]
    },
    {
      "metadata": {
        "id": "-51PLwgdboVB",
        "colab_type": "text"
      },
      "cell_type": "markdown",
      "source": [
        "Action:  \n",
        "Maria <font color=red>is having</font> a hard time understanding."
      ]
    },
    {
      "metadata": {
        "id": "Tv0RzCKpboVC",
        "colab_type": "text"
      },
      "cell_type": "markdown",
      "source": [
        "State:  \n",
        "The teacher <font color=red>has</font> some important information."
      ]
    },
    {
      "metadata": {
        "id": "Ty7lXSMScjs5",
        "colab_type": "text"
      },
      "cell_type": "markdown",
      "source": [
        "# **Present Perfect Progressive**,现在完成进行时"
      ]
    },
    {
      "metadata": {
        "id": "DC1V358mcmk4",
        "colab_type": "text"
      },
      "cell_type": "markdown",
      "source": [
        "**How long has Jim been swimming?**"
      ]
    },
    {
      "metadata": {
        "id": "zEtioToqcwrA",
        "colab_type": "text"
      },
      "cell_type": "markdown",
      "source": [
        "**Present Perfect Progressive: Form**， 形式:"
      ]
    },
    {
      "metadata": {
        "id": "V3oTpUc-c9HI",
        "colab_type": "text"
      },
      "cell_type": "markdown",
      "source": [
        "subject + has/have + been + -ing"
      ]
    },
    {
      "metadata": {
        "id": "Q5BPMsb6dLw_",
        "colab_type": "text"
      },
      "cell_type": "markdown",
      "source": [
        "She has been swimming for 30 minutes.  \n",
        "She has been swimming since 1 pm."
      ]
    },
    {
      "metadata": {
        "id": "qtgebWvrdWc6",
        "colab_type": "text"
      },
      "cell_type": "markdown",
      "source": [
        "subject + has/have + (not) + been + -ing"
      ]
    },
    {
      "metadata": {
        "id": "97AeEjaFdtPZ",
        "colab_type": "text"
      },
      "cell_type": "markdown",
      "source": [
        "She has not beening swimming."
      ]
    },
    {
      "metadata": {
        "id": "Jq55KHsudyiY",
        "colab_type": "text"
      },
      "cell_type": "markdown",
      "source": [
        "# Present Perfect Progressive: Form， Use:\n",
        "Begin in the past  \n",
        "in progress right now  \n",
        "how long (duration)  \n",
        "may appear without since or for  \n",
        "often with recently or lately  (recent habit)  (He's been working out a lot lately.)  "
      ]
    },
    {
      "metadata": {
        "id": "Ps9lTJ5NfWst",
        "colab_type": "text"
      },
      "cell_type": "markdown",
      "source": [
        "# Be ware of the differences between:  \n",
        "**present perfect progressive** ---------------------------vs---------------------------   **present progressive  **  \n",
        "present perfect progressive shows somthing that started in the past and is still going on now or a length of time of activity. But the present progressive is showing what is happening right now."
      ]
    },
    {
      "metadata": {
        "id": "VrD3xUJlfpVs",
        "colab_type": "text"
      },
      "cell_type": "markdown",
      "source": [
        "Emily has been reading for three hours. (ok)  \n",
        "Emily is reading right now.(ok)  \n",
        "Emily has been reading right now(not ok)  \n",
        "Emily is reading for three hours.(not ok)  "
      ]
    },
    {
      "metadata": {
        "id": "5G_lmhWUhKkS",
        "colab_type": "text"
      },
      "cell_type": "markdown",
      "source": [
        "present perfect progressive only use action verbs.  \n",
        "I have been working .....   (ok)  \n",
        "I have been knowing .....  (not ok)  \n",
        "we can say:  \n",
        "I have known my best friend for ten years."
      ]
    },
    {
      "metadata": {
        "id": "e30165QehmFa",
        "colab_type": "text"
      },
      "cell_type": "markdown",
      "source": [
        "# Yes/No question   \n",
        "Has she been working here for a long time?  \n",
        "Have/Has + subject + been + -ing  \n",
        "\n",
        "No, she hasn't.  \n",
        "Yes, She has."
      ]
    },
    {
      "metadata": {
        "id": "fAs_DD84haPE",
        "colab_type": "text"
      },
      "cell_type": "markdown",
      "source": [
        "# WH-question   \n",
        "WH-Words(who/what/where/when/how/which) + has/have + subject + been + -ing  \n",
        "\n",
        "WH-Words(who/what/where/when/how/which) + has she been working?  \n",
        "whhich department has she been working for?  "
      ]
    },
    {
      "metadata": {
        "id": "6s0edUlmlT8P",
        "colab_type": "text"
      },
      "cell_type": "markdown",
      "source": [
        "# Present Perfect vs. Present Perfect Progressive  \n"
      ]
    },
    {
      "metadata": {
        "id": "vBsr9lr3lo_1",
        "colab_type": "text"
      },
      "cell_type": "markdown",
      "source": [
        "present perfect progressive and present perfect continuous are the same thing."
      ]
    },
    {
      "metadata": {
        "id": "wPDqEosZl5bM",
        "colab_type": "text"
      },
      "cell_type": "markdown",
      "source": [
        "My family has been living in California for 10 years.  \n",
        "I've been working at an engineering firm for 5 years.  \n",
        "My son has been atudying medicine at university.  \n",
        "My daughter has been studying law.  "
      ]
    },
    {
      "metadata": {
        "id": "ufP4U2bMmfA8",
        "colab_type": "text"
      },
      "cell_type": "markdown",
      "source": [
        "**present perfect** -------------------------------------------------------------vs-----------------------------------------**present perfect continuous**  \n",
        "I have studied English for 5 years. ---------------------------------vs---------------------------------- I have been studying English for 5 years. "
      ]
    },
    {
      "metadata": {
        "id": "3JICJvzBmyGE",
        "colab_type": "text"
      },
      "cell_type": "markdown",
      "source": [
        "So what is the difference above?"
      ]
    },
    {
      "metadata": {
        "id": "bGUV2O-xm_nz",
        "colab_type": "text"
      },
      "cell_type": "markdown",
      "source": [
        "# **The Similarities:**  \n",
        "1. start in the past and has some importance in the present time.  \n",
        "2. Use FOR and SINCE.  \n",
        "3. Uses habitual actions with verbs like work/live/study/play/wear glasses... and other similar verbs.  "
      ]
    },
    {
      "metadata": {
        "id": "CvTwqE7InpDb",
        "colab_type": "text"
      },
      "cell_type": "markdown",
      "source": [
        "**1. start in the past and has some importance in the present time.**  \n",
        "\n",
        "He has wanted to go to New York since he was 10 years old.  \n",
        "The have studied engineering for  3 years.  \n",
        "The water has been boiling for 10 minutes.  \n",
        "I have been studying for this test since 7:00 the morning.   \n"
      ]
    },
    {
      "metadata": {
        "id": "xGU756NBoLZa",
        "colab_type": "text"
      },
      "cell_type": "markdown",
      "source": [
        "**2. Use FOR and SINCE.**\n",
        "\n",
        "He has wanted to go to New York **since** he was 10 years old.  \n",
        "The have studied engineering **for** 3 years.  \n",
        "The water has been boiling **for** 10 minutes.  \n",
        "I have been studying for this test **since** 7:00 the morning."
      ]
    },
    {
      "metadata": {
        "id": "SGzsqmK5oRLK",
        "colab_type": "text"
      },
      "cell_type": "markdown",
      "source": [
        "**3. Uses habitual actions with verbs like work/live/study/play/wear glasses... and other similar verbs.**\n",
        "\n",
        "He has wanted to go to New York since he was 10 years old.  \n",
        "The have studied engineering for 3 years.  \n",
        "The water has been boiling for 10 minutes.  \n",
        "I have been studying for this test since 7:00 the morning. \n",
        "\n",
        "**Habitual action - No difference in meaning.  **  \n",
        "\"With habitual action, there is no difference in meaning between the present perfect and present perfect continuous tenses.\"  eg:\n",
        "\n",
        "He has lived in California for 5 years.  \n",
        "He has been living in California for 5 years.  \n",
        "\n",
        "They have studied engineering for 3 years.  \n",
        "They have been studying engineering for 3 years. \n",
        "\n",
        "**Have the same meaning.**"
      ]
    },
    {
      "metadata": {
        "id": "jeNtXZV8o1AJ",
        "colab_type": "text"
      },
      "cell_type": "markdown",
      "source": [
        "# **The difference**"
      ]
    },
    {
      "metadata": {
        "id": "zf0a393So8_x",
        "colab_type": "text"
      },
      "cell_type": "markdown",
      "source": [
        "present perfect:  \n",
        "1. emphasis on the result of an action(completion)  \n",
        "2. with non-action verbs  \n",
        "3. with **ever**/**never**  \n",
        "4. \"**how often**\" question"
      ]
    },
    {
      "metadata": {
        "id": "E_naD-ilqRzH",
        "colab_type": "text"
      },
      "cell_type": "markdown",
      "source": [
        "present perfect continuous:  \n",
        "1. emphasis on the ongoing action  \n",
        "2. with \"**how long**\" question  \n",
        "3. emphasis on duration(finished or unfinished)  \n",
        "4. when the action is finished but you can see the results.  "
      ]
    },
    {
      "metadata": {
        "id": "eTYgOjl-qou_",
        "colab_type": "text"
      },
      "cell_type": "markdown",
      "source": [
        "**1.**  \n",
        "I **have worked** on my homework for 2 hours.(I finished my homwork after 2 hours.)  \n",
        "I **have been working** on my homework for 2 hours.(and I am not finished yet.)   "
      ]
    },
    {
      "metadata": {
        "id": "RLwrAZOUrbKW",
        "colab_type": "text"
      },
      "cell_type": "markdown",
      "source": [
        "**2.  **  \n",
        "present perfect is used with **non-action** verbs. Non-action verbs are verbs that **describe states, senses or mental activities**. For example, have, be, feel, hear, smell, taste, believe, think, know, understand.  These verbs cannot use ing at the end.   \n",
        "\n",
        "I have had 10 cellphones.  \n",
        "\n",
        "I have been a lawyer for 2 years. \n",
        "\n",
        "I have heard this story before.  \n",
        "\n",
        "You haven't tasted this before.  \n",
        "\n",
        "We have thought about it before.  \n",
        "\n",
        "She has known them for years.  \n"
      ]
    },
    {
      "metadata": {
        "id": "Ug9o2LHerepG",
        "colab_type": "text"
      },
      "cell_type": "markdown",
      "source": [
        "**3.**  \n",
        "The present perfect is also used with \"**ever**\" and \"**never**\".  \n",
        "\n",
        "Have you ever visited Las Vegas?  \n",
        "\n",
        "No, I have never visited Las Vegas.  \n",
        "\n",
        "Has he ever failed a class?  \n",
        "\n",
        "No, he has never failed a class."
      ]
    },
    {
      "metadata": {
        "id": "hJXqMK_2sLv9",
        "colab_type": "text"
      },
      "cell_type": "markdown",
      "source": [
        "**4.**   \n",
        "The **present perfect** is also used with \"**how often**\" questions.\n",
        "\n",
        "How often have you been to San Francisco?  \n",
        "I have been there 6 times.   \n",
        "How often has she called you?   \n",
        "She has called many times.  \n",
        "\n",
        "=========================================================\n",
        "\n",
        "**Present perfect continuous** tense is used with \"**how long**\" questions.   \n",
        "How long have you been living here?  \n",
        "How long has he been studying medicine?  \n",
        "How long have they been dating?"
      ]
    },
    {
      "metadata": {
        "id": "7QyGynyFsT21",
        "colab_type": "text"
      },
      "cell_type": "markdown",
      "source": [
        "present perfect continuous tense is used to show emphasis on **duration** of time, whether the action is finished or unfinished.\n",
        "\n",
        "For example, in the questions,** how long**, the answers:\n",
        "\n",
        "I have been living here for 10 years, puts the emphasis on the, for 10 years.\n",
        "\n",
        "He has been studying medicine since 2005. The emphasis is on, since 2005.\n",
        "\n",
        "They have been dating since March, emphasis is on, since March."
      ]
    },
    {
      "metadata": {
        "id": "oNVCMthTtVzz",
        "colab_type": "text"
      },
      "cell_type": "markdown",
      "source": [
        "Lastly, present perfect continuous is used when the action is finished but you can still see the results.   \n",
        "For example:  \n",
        "\n",
        "**you are soaking wet. I have been walking in the rain because I forgot my umbrella.**\n",
        "You are soaking wet, means, I can still see the results of the action, even though you're not currently walking in the rain.\n",
        "\n",
        "**You look angry. Have you been fighting with your boyfriend again?**\n",
        "Because you look angry, I can see the results of your action of fighting with your boyfriend."
      ]
    },
    {
      "metadata": {
        "id": "hLq09pw0ts8t",
        "colab_type": "text"
      },
      "cell_type": "markdown",
      "source": [
        ""
      ]
    }
  ]
}