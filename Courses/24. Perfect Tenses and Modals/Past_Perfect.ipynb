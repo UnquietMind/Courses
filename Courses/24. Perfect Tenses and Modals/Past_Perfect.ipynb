{
  "nbformat": 4,
  "nbformat_minor": 0,
  "metadata": {
    "colab": {
      "name": "Past Perfect.ipynb",
      "version": "0.3.2",
      "provenance": [],
      "collapsed_sections": []
    },
    "kernelspec": {
      "name": "python3",
      "display_name": "Python 3"
    }
  },
  "cells": [
    {
      "metadata": {
        "id": "qxQfrI9gau2C",
        "colab_type": "text"
      },
      "cell_type": "markdown",
      "source": [
        "Which happened first in this sentence?\n",
        "\n",
        "When the airplane took off, I had ordered a drink.\n",
        "\n",
        "\n",
        "The airplane took off.\n",
        "\n",
        "\n",
        "I ordered a drink.\n",
        "\n",
        "正确 \n",
        "The past perfect \"had ordered\" shows that it happened before the other action."
      ]
    },
    {
      "metadata": {
        "id": "3amOQ377a0Fo",
        "colab_type": "text"
      },
      "cell_type": "markdown",
      "source": [
        "# **Past Perfect**"
      ]
    },
    {
      "metadata": {
        "id": "WrSUe1r5a9NZ",
        "colab_type": "text"
      },
      "cell_type": "markdown",
      "source": [
        "**had +  past participle**  \n",
        "\n",
        "It means that this happened first. "
      ]
    },
    {
      "metadata": {
        "id": "9j0Jv8tTbEvJ",
        "colab_type": "text"
      },
      "cell_type": "markdown",
      "source": [
        "**When we arrived, the movie had started.  **\n",
        "\n",
        "The past perfect means that this happened first. The movie started first, and then we arrived. We use the past perfect to clearly show that once past event happened before another past event. It's like the past before the past."
      ]
    },
    {
      "metadata": {
        "id": "ptqqXdEYbbAQ",
        "colab_type": "text"
      },
      "cell_type": "markdown",
      "source": [
        "It is possible to change the clause order. **The movie had started when we arrived.** The sentence looks different, but the time order, the movie started first, we arrived later, is the same. **To make the negative, we can add not after had.** For example, **the movie hadn't ended when we arrived.** *We missed the first half of the movie, but I still enjoyed the second half.*"
      ]
    },
    {
      "metadata": {
        "id": "W4h59XT3b8en",
        "colab_type": "text"
      },
      "cell_type": "markdown",
      "source": [
        "When the time order is clear, it is usually wrong to use the past perfect tense. It would be confusing if we told all of our stories in the past perfect. For example:  \n",
        "we had watched a movie yesterday.  \n",
        "We had been late to the theater, but I had enjoyed the movie.  \n",
        "**Instead, we simply use the past simple tense.  **   \n",
        "We watched a movie yesterday.   \n",
        "We were late to the theater, but I enjoyed the movie anyway."
      ]
    },
    {
      "metadata": {
        "id": "rfAKPlnqcx2X",
        "colab_type": "text"
      },
      "cell_type": "markdown",
      "source": [
        "A common exception to this rule is, **by the time**, a phrase that pretty much means before. When we use this phrase, the time order is clear, but we almost always use the past perfect.\n",
        "\n",
        "For example:  \n",
        "**by the time** we got here all of the seats **had filled**. Larry and I had to stand in the back of the theater to watch the movie.  \n",
        "\n",
        "Notice by the time can be specified, for example, 7:45. **By 7:45**, all seats had filled."
      ]
    },
    {
      "metadata": {
        "id": "cOkB1mWodQsu",
        "colab_type": "text"
      },
      "cell_type": "markdown",
      "source": [
        "# **Past Perfect Questions**"
      ]
    },
    {
      "metadata": {
        "id": "ZBDmavtSgG-K",
        "colab_type": "text"
      },
      "cell_type": "markdown",
      "source": [
        "Question and short answer forms part 3. The past perfect simple tense.   \n",
        "Hm, are you interested in Jackie?\n",
        "\n",
        "Well, she just sounds really cool. It seems like she knows a lot.\n",
        "\n",
        "Before she started working here, had she done other cool things?\n",
        "\n",
        "Yeah, she had done a homestay with the Eskimos in Alaska.\n",
        "\n",
        " No way, why had she chosen to do her homestay there?\n",
        "\n",
        "She had received a scholarship to study about the Eskimo culture.   \n",
        "\n",
        " How had she won the scholarship?  \n",
        " Well, she had designed a new machine that records whale sounds. [SOUND]  \n",
        "\n",
        "Wow, I really have to ask her out.   \n",
        "\n",
        "-------------------------------------------------------------------------------------------------------------------------------------------------------------------------------------------------------------------------------\n",
        "\n",
        " It's really amazing all the things that Jackie has done. We've learned a lot about her, we know that Jackie works in advertising now, but started working at the company about a year ago.\n",
        "\n",
        "Before that she lived with Eskimos in Alaska. That was possible because she received a scholarship before that. And she was able to win that scholarship because she had designed a special machine that records whale sounds.\n",
        "\n",
        "**When we ask questions about past events that happened before another past time, we often use the past perfect form. Like when Linus asked, *before she started working here, had she done other cool things? *He asked this yes/no question to ask about things she had done in the past before working at the company which was a closer past time.**\n",
        "\n",
        "How could you respond with a short answer to a question like this? You would either say, **yes, she had** or **no, she hadn't**. Great.\n",
        "\n",
        "As the conversation continued, Linus wanted more detailed information, so he asked **WH questions** like, **why had she chosen to do her homestay in Alaska? **  *He used the past perfect because he was asking about the decision she made to go to Alaska which happened before she started working at the company.* Again, when Linus asked, how had she won the scholarship, he used the past perfect form asking about an even further time in the past. Did you notice the pattern in question form for the past perfect?\n",
        "\n",
        "**If you're asking a WH question, begin with the appropriate WH word, plus had, then the subject, and then the past participle of the main verb.**\n"
      ]
    },
    {
      "metadata": {
        "id": "MnCjZ9uLhYRx",
        "colab_type": "text"
      },
      "cell_type": "markdown",
      "source": [
        "# **Past Perfect Progressive**"
      ]
    },
    {
      "metadata": {
        "id": "s_c0-vFUljzN",
        "colab_type": "text"
      },
      "cell_type": "markdown",
      "source": [
        "**had + (not) + been + -ing**"
      ]
    },
    {
      "metadata": {
        "id": "ePv7sZ8NQfy_",
        "colab_type": "text"
      },
      "cell_type": "markdown",
      "source": [
        "She'd been waiting for an hour."
      ]
    },
    {
      "metadata": {
        "id": "PEUsnxLXQkaN",
        "colab_type": "text"
      },
      "cell_type": "markdown",
      "source": [
        "The past perfect progressive is not frequently used, but when we do use it, what does it mean?  \n",
        "\n",
        "To understand, let's revisit the present perfect progressive. Here's what happened last night.  \n",
        "\n",
        "Where are you? The repair shop's closed now. You were supposed to be here at 6, and now it's 7. ** I've been waiting here for an hour.**  \n",
        "\n",
        "Meg tells her boyfriend Brendon, that she has been waiting for an hour. This is the **present perfect progressive tense**. You may remember that this verb tense also has three main parts. The helping verbs has or have, plus been, and then the present participle of the main verb. It can have **two meanings**. When the time is specified or implied using expressions such as for, since, or all day, it is** an unfinished action right now**. Without expressions, such as for or since, sometimes called unspecified time, this verb tends might suggest that **an action was very recently finished just before now**.  \n",
        "\n",
        "In our example Meg started waiting at 6. It is past 7 now. She has been waiting for an hour. Brendon has not arrived, so Meg must continue to wait. Here, waiting is an unfinished action right now. She has been waiting since 6 o'clock, and she is still waiting.  \n",
        "\n",
        "Now let's go back to our original example. The past perfect progressive looks the same, except that has or have becomes had.  \n",
        "It also has the same two meanings but instead of referring to now, it's referring to another time in the past.  \n",
        "\n",
        "This morning, when chatting with me in the office, Meg says that she started waiting at 6 o'clock yesterday. By 7:00 PM, she had been waiting for an hour, and was still waiting.  \n",
        "Here, waiting is an unfinished time in the past.  \n",
        "Brendon realized his mistake at 7:00 PM last night, but by then, Meg had already been waiting since 6 o'clock.  \n",
        "\n",
        "I'm so sorry I'm late. I know the repair shop is closed now. I promise, we'll get your car tomorrow. >> [SOUND] >> Meg is clearly angry. **She has been feeling angry since last night**. This sentence is in the present perfect progressive. How can we make the sentence in the past perfect progressive?\n",
        "\n",
        "That's right, **she had been feeling angry**. What might this mean? Was it unfinished time still happening, or recently finished, no longer happening?  \n",
        "\n",
        "Well, there's no time expression such as for or since, so perhaps this feeling ended very recently.  \n",
        "Very recently can be a minute or even a short second ago. Take for example, the conclusion of this story.  "
      ]
    },
    {
      "metadata": {
        "id": "WEjMxkBLUSip",
        "colab_type": "text"
      },
      "cell_type": "markdown",
      "source": [
        ""
      ]
    }
  ]
}