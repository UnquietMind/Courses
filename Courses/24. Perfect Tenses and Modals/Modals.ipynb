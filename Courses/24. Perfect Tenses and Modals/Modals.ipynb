{
  "nbformat": 4,
  "nbformat_minor": 0,
  "metadata": {
    "colab": {
      "name": "Modals.ipynb",
      "version": "0.3.2",
      "provenance": [],
      "collapsed_sections": []
    },
    "kernelspec": {
      "name": "python3",
      "display_name": "Python 3"
    }
  },
  "cells": [
    {
      "metadata": {
        "id": "qNELDr6ZiTyl",
        "colab_type": "text"
      },
      "cell_type": "markdown",
      "source": [
        "# **Modals**"
      ]
    },
    {
      "metadata": {
        "id": "arPoLS9riVUL",
        "colab_type": "text"
      },
      "cell_type": "markdown",
      "source": [
        "**Modals** are a special group of words that help main verbs, so they are called **helping verbs**. In a sentence they usually come after the subject and before the main verb. When you put a modal with a main verb it gives the verb a special meaning. You will learn about the special meanings in other lessons, but first let's take a look at the group of modals. Can, could, may, might, should, had better, must, will, and would. **The most important rule about modals is that they never change**. He cans, no, they woulded, no. **The second most important rule is when you combine modals with verbs, the verb stays in the original form.** Original form means there is no -s, -ing, or -ed ending. For example, take the sentence, She runs. If I add can, it becomes She can run. The s is gone. Here are some more sample sentences. The students wore a uniform. I am taking the dog out. The boy is sick. If I add a modal to each of these sentences, the verb changes back to the original form. The students must wear a uniform. I should take the dog out. The boy might be sick."
      ]
    },
    {
      "metadata": {
        "id": "7i2q28rKiq_j",
        "colab_type": "text"
      },
      "cell_type": "markdown",
      "source": [
        "# **Phrasal Modals**"
      ]
    },
    {
      "metadata": {
        "id": "yxwjVznGjueJ",
        "colab_type": "text"
      },
      "cell_type": "markdown",
      "source": [
        "Hello.  \n",
        "Hello. Who are you?   \n",
        " I'm Ms. Modal.   \n",
        "What? No, you're not. I'm Ms. Modal. You're Ms. Phrasal Modals.  \n",
        "I am? I am. How did you know?   \n",
        "Your modals are different from my modals. Look.  Have to, have got to, ought to, and be able to, they all have to.   \n",
        "You're right.   \n",
        "Well, your modals are similar to my modals, because when you're with a verb, the verb stays in the original form. For example, they run, becomes they have to run.   \n",
        "I see. But actually, I would call you Ms. Fake Modals.   \n",
        "Fake modal? Why?   \n",
        "Well, for have to, have got to, and be able to, the modal changes depending on the subject. For example, when you change the subject from they to she, have changes to has. She has to run.  \n",
        "I see.  \n",
        "Okay. Let me show you a couple more examples.  \n",
        "Number one. The bird have got to find food? No. The bird has got to find food. Number two. The boy be able to eat spicy food? No. The boy is able to eat spicy food.   \n",
        "Got it.  \n",
        "Ought to is the only one that doesn't change. They ought to sleep. He ought to sleep. I guess this isn't a fake modal.   \n",
        "See, I'm not completely fake. Fine, fine, Ms. Phrasal Modal. You learned about modals and phrasal modals.  "
      ]
    },
    {
      "metadata": {
        "id": "uNyxDejDkH95",
        "colab_type": "text"
      },
      "cell_type": "markdown",
      "source": [
        "# **Ability Modals**"
      ]
    },
    {
      "metadata": {
        "id": "l784KL8RlYV3",
        "colab_type": "text"
      },
      "cell_type": "markdown",
      "source": [
        "Today, I want to talk to you about how to express ability and inability in English, using the words can, could and be able to. Do you know what kind of verbs these are? If you said modal verbs, you're right."
      ]
    },
    {
      "metadata": {
        "id": "oyg2yexylqBo",
        "colab_type": "text"
      },
      "cell_type": "markdown",
      "source": [
        "Let's start with ability in the present and future."
      ]
    },
    {
      "metadata": {
        "id": "Spj1vHmWlqzX",
        "colab_type": "text"
      },
      "cell_type": "markdown",
      "source": [
        "**These babies can touch their toes! We can also say, these babies are able to touch their toes! **We use the modal verb, can, and the phrasal modal verb, be able to, to express ability."
      ]
    },
    {
      "metadata": {
        "id": "Hnrfjgnkluwn",
        "colab_type": "text"
      },
      "cell_type": "markdown",
      "source": [
        "Because these are modal verbs, they're followed by the simple form of the main verb. Can you find the main verb in these sentences? That's right, it's touch. So these two sentences mean exactly the same thing.  \n",
        "\n",
        "But let's take a look at the first one to see how it's a little bit **different** in its form than the second one. When we use can, all we need is any subject.  Followed by can, remember no s, and a main verb in its simple form.  To make it negative, we can say cannot or the contraction can't. For example, this baby can't walk. She can only crawl.  \n",
        "Unlike can, be able to will change according to the subject. For example we say, I am able to. You, we, they are able to and he, she, it is able to all followed by the main verb. To make it negative, we simply add not.\n",
        "For example, she is not able to walk. Okay, let's take a look at ability in the past. When Joe was younger, he could touch his toes. Now, he can't. Poor Joe. We can also say when Joe was younger, he was able to touch his toes. Now he can't. We use the modal verb could to express ability in the past. We have another clue in this sentence that tells us we're talking about the past. Can you find it? Yep, it's the verb was, which is in its past form. Just like can, could is easy to use. We don't need to change it according to the subject. To make it negative, we simply add not or use the contraction couldn't.  "
      ]
    },
    {
      "metadata": {
        "id": "NlsmszEdmxru",
        "colab_type": "text"
      },
      "cell_type": "markdown",
      "source": [
        "To express ability in the present and future, we can use can or cannot to express inability. And the main verb in its simple form."
      ]
    },
    {
      "metadata": {
        "id": "UwTjkflnqY-5",
        "colab_type": "text"
      },
      "cell_type": "markdown",
      "source": [
        "# **Modals of Possibility**"
      ]
    },
    {
      "metadata": {
        "id": "Zw3qL-UNqaAx",
        "colab_type": "text"
      },
      "cell_type": "markdown",
      "source": [
        "My friend **could be** playing sports.   \n",
        "My friend **might be** at a club dancing.  \n",
        "My friend **may be** at home reading.   \n",
        "**Maybe** my friend is driving around town."
      ]
    },
    {
      "metadata": {
        "id": "Ma4iQPEXqxpA",
        "colab_type": "text"
      },
      "cell_type": "markdown",
      "source": [
        "All of these sentences express possibility. Meaning, there is some chance that these sentences are true. The first three sentences use modals of possibility.  \n",
        "**Could**, **might**, and **may**, plus the base form of a main verb."
      ]
    },
    {
      "metadata": {
        "id": "KBNFZRqPl1lP",
        "colab_type": "text"
      },
      "cell_type": "markdown",
      "source": [
        "Could, might, and may **have the same meaning**, but one is more formal than the other two, and that's may.  \n",
        "You will see **may used more in writing than in speech or conversation**.  \n",
        "I want to say one more thing about may. But may used With be. May be. And how it is different from maybe.  \n",
        "Let's look at the sentence that uses **maybe**.  \n",
        "**Maybe my friend is driving around town.**  \n",
        "Maybe, which is one word, means possibly. So this sentence, like all the other sentences, expresses possibility.  \n",
        "It means the same as saying, **my friend may be driving around town**. Maybe, one word, is not a motile, but instead an **adverb**, and it goes **at the beginning of a sentence**."
      ]
    },
    {
      "metadata": {
        "id": "JTWw8PEGr7gn",
        "colab_type": "text"
      },
      "cell_type": "markdown",
      "source": [
        "What could this image be?   \n",
        "Use could, might, or may to give an answer. Well, if you focus on the white, you'd probably say, this image could be a vase."
      ]
    },
    {
      "metadata": {
        "id": "yTYBP9tDsN_-",
        "colab_type": "text"
      },
      "cell_type": "markdown",
      "source": [
        "**could/might/may + base form of a main verb**"
      ]
    },
    {
      "metadata": {
        "id": "dfFYLXkHtDnW",
        "colab_type": "text"
      },
      "cell_type": "markdown",
      "source": [
        "The same structure can be used to express **future** and **present** possibility."
      ]
    },
    {
      "metadata": {
        "id": "zBjR5qVTtQJN",
        "colab_type": "text"
      },
      "cell_type": "markdown",
      "source": [
        "present possibility:  \n",
        "My friend could be playing sports.  \n",
        "My friend might be at a club dancing.  \n",
        "\n",
        "future possibility:  \n",
        "it may snow tomorrow.   \n",
        "I might cook tonight instead of eating out.   \n",
        "My mother could call me this week."
      ]
    },
    {
      "metadata": {
        "id": "aC6l2ZidtfzF",
        "colab_type": "text"
      },
      "cell_type": "markdown",
      "source": [
        "**How would you answer these questions? **  \n",
        "\n",
        "what might the weather be like tomorrow?  \n",
        "what could you eat for breakfast tomorrow morning?   \n",
        "where could you go on your next vacation?  \n",
        "\n",
        "Well, here are my **answers**.   \n",
        "It might rain tomorrow.\n",
        "I could have eggs and bacon.  \n",
        "I might also have some coffee.  \n",
        "I could go to Las Vegas.  \n",
        "It's only five hours away by car.  "
      ]
    },
    {
      "metadata": {
        "id": "6OwZ7-uQuJ9t",
        "colab_type": "text"
      },
      "cell_type": "markdown",
      "source": [
        "All right. So we've learned how to use could, might, and may, to express present and future possibility.   \n",
        "Let's learn one more modal, one that shows a **very high chance of possibility**."
      ]
    },
    {
      "metadata": {
        "id": "QwjqDgTKuLzk",
        "colab_type": "text"
      },
      "cell_type": "markdown",
      "source": [
        "The baby **must** be hungry.  \n",
        "He **must** be sick.   \n",
        "The man **must** be late.  \n",
        "He **must** be very angry. "
      ]
    },
    {
      "metadata": {
        "id": "JXo-dBOnukhN",
        "colab_type": "text"
      },
      "cell_type": "markdown",
      "source": [
        "It's **must**.  \n",
        "When we use, when we are very certain about what we think is possible. I'm going to call this the modal of certainty. And like the other modals, must is used with the base form of a main verb.  \n",
        "The penguin must be cold.  \n",
        "The diamond ring must cost a lot. The lady bugs must love each other.  \n",
        "The monkey must be scared. "
      ]
    },
    {
      "metadata": {
        "id": "gsVytRa5vFvc",
        "colab_type": "text"
      },
      "cell_type": "markdown",
      "source": [
        "# **Advice Modals**"
      ]
    },
    {
      "metadata": {
        "id": "7f_AdeOivG6M",
        "colab_type": "text"
      },
      "cell_type": "markdown",
      "source": [
        "Giving advice with the modal verb **should**, **ought to** and **had better**."
      ]
    },
    {
      "metadata": {
        "id": "DGQLQzmGxTC5",
        "colab_type": "text"
      },
      "cell_type": "markdown",
      "source": [
        "There are three main advice modals.  \n",
        "**Should**.   \n",
        "She should buy a gift at the mall.   \n",
        "**Ought to**.   \n",
        "She ought to buy a gift at the mall.   \n",
        "**Had better**.   \n",
        "She'd better buy a gift at the mall.   \n",
        "\n",
        "The first way, **should**, is the most common. It can be used in any situation from informal conversations with friends to formal academic and professional writing.   \n",
        "The second way, **ought to**, is used in conversations. It is not often used in academic and professional writing. Because ought to is informal style, ought to is often reduced to otta. She otta buy a gift at the mall.   \n",
        "The third way is** had better**. That d stands for had. She had better buy a gift at the mall. In conversation, we often contract it to she'd better. She'd better buy a gift at the mall. This last one,** had better, is the strongest of these three advice modals**. There's a sense of danger, like something bad will happen if you don't follow this advice, for example, maybe the mall will close very soon. Emily had better buy a gift at the mall before it closes. If she doesn't reach the mall before it closes, she will not be able to buy a gift in time."
      ]
    },
    {
      "metadata": {
        "id": "kZmDs5PuyeAH",
        "colab_type": "text"
      },
      "cell_type": "markdown",
      "source": [
        "**Advice Modals with '\"Not\"'**"
      ]
    },
    {
      "metadata": {
        "id": "kld6A9QY0nZl",
        "colab_type": "text"
      },
      "cell_type": "markdown",
      "source": [
        "She **should not** spend too much time at the mall.  \n",
        " She **shouldn**'t spend too much time at the mall.  \n",
        " In American English we do not use ought to with not. With not, we will use should or have better. For example, she had better not spend too much time at the mall.  "
      ]
    },
    {
      "metadata": {
        "id": "YGzkG8Le1LZl",
        "colab_type": "text"
      },
      "cell_type": "markdown",
      "source": [
        "# **Preference Modals**"
      ]
    },
    {
      "metadata": {
        "id": "uyOr6YZC1ZJ9",
        "colab_type": "text"
      },
      "cell_type": "markdown",
      "source": [
        "Hi, in this lesson you will learn how to use different expressions to show what your preferences are. In other words, what you'd like more than something else.   "
      ]
    },
    {
      "metadata": {
        "id": "7G0RD_o-1tBc",
        "colab_type": "text"
      },
      "cell_type": "markdown",
      "source": [
        "I **prefer** snowboarding **to** surfing. I **like** snow **better than** the water.  \n",
        "I **like** warm weather **better than** cold weather. I **would rather** play in the snow.  \n",
        "I**'d rather** go to Hawaii than Colorado.  \n",
        "**Would** you **rather** go to Colorado or Hawaii?"
      ]
    },
    {
      "metadata": {
        "id": "8EfEgXHe2EZ8",
        "colab_type": "text"
      },
      "cell_type": "markdown",
      "source": [
        "**prefer**  \n",
        "I **prefer** snowboard**ing** **to** surf**ing**.   \n",
        "The structure used here was **prefer, -ing verb, to, -ing, verb**. Notice the preposition to. When you use prefer to** compare two actions or activities**, you must use the preposition to. Why don't you try? Answer this question. **Do you prefer singing or dancing?** If you like singing more, you would say, **I prefer singing to dancing**. If you like dancing more, you would say,** I prefer dancing to singing.** Now let's move on to using like.  \n",
        "\n",
        "\n",
        "**like...better than...**  \n",
        "I **like** warm weather **better than** cold weather.   \n",
        "Do you see a pattern? **When you use like, you use better than**. This structure can be used to **compare two nouns**, as we see in these examples. Snow to water, warm weather to cold weather, but **it can also be used to compare two actions or activities using -ing verbs**.  The **chick likes being with family better than being alone. **  \n",
        "\n",
        "**would rather,** a modal to express preference.   \n",
        "**Because would rather is a modal, we always use it followed by the base form of a main verb**. You can use would rather plus a main verb to state what you prefer. I **would rather play** in the snow. **When you use would rather to compare two options, use *than* **.  **I'd rather go to Hawaii than Colorado.**"
      ]
    },
    {
      "metadata": {
        "id": "f7Nxy5V747yf",
        "colab_type": "text"
      },
      "cell_type": "markdown",
      "source": [
        "# **Ask and answer**"
      ]
    },
    {
      "metadata": {
        "id": "hy-znvhx4N7h",
        "colab_type": "text"
      },
      "cell_type": "markdown",
      "source": [
        "how would you ask someone a question about their preferences using would rather?   \n",
        "**Would** you **rather** **go** to Colorado **or** Hawaii?  \n",
        "**would** you **rather** **travel** alone **or** with friends? \n",
        "\n",
        "I'**d rather** travel with friends **than** travel alone."
      ]
    },
    {
      "metadata": {
        "id": "S3eDRB0Z44rx",
        "colab_type": "text"
      },
      "cell_type": "markdown",
      "source": [
        "# **\"Not\"**"
      ]
    },
    {
      "metadata": {
        "id": "IWZjWpnE5Qkp",
        "colab_type": "text"
      },
      "cell_type": "markdown",
      "source": [
        "how would you use this modal in the negative? Just use not. Just **add not after would rather and before the main verb**.   \n",
        "Can you tell me what I mean when I say, I would rather travel with friends than travel alone?  \n",
        "Does this mean A, I would rather not travel with friends,   \n",
        "or B, I would rather not travel alone.   \n",
        "Hm. The answer is B. A is incorrect."
      ]
    },
    {
      "metadata": {
        "id": "uYeg0IkF61n6",
        "colab_type": "text"
      },
      "cell_type": "markdown",
      "source": [
        "# **Modals of Impossibility**"
      ]
    },
    {
      "metadata": {
        "id": "lW7DeypB9geS",
        "colab_type": "text"
      },
      "cell_type": "markdown",
      "source": [
        "Modal verbs, can't and couldn't, impossibility or disbelief."
      ]
    },
    {
      "metadata": {
        "id": "MJJBubFi9nGS",
        "colab_type": "text"
      },
      "cell_type": "markdown",
      "source": [
        "**Can't and couldn't, these modal verbs express impossibility or disbelief in the present.**  \n",
        "\n",
        "*My mom can't be at the door. She's traveling to another country. It's impossible!  *\n",
        "\n",
        "For impossibility and disbelief, can't and couldn't have the same meaning.  \n",
        "\n",
        "*It can't be my neighbor, or it couldn't be my neighbor. He's at work right now.*  \n",
        "\n",
        "\n",
        "It can't be my neighbor is the same as it couldn't be my neighbor. Can't and couldn't show that someone is not 100% certain.   \n",
        "I can't see who it is, so I don't know for sure. However, I'm almost certain it isn't my mom or my neighbor.  \n",
        "\n",
        "Okay, let's remember, like other modal verbs, can't and couldn't will come before the simple form of the main verb. With this use, the main verb is almost always **be**.  \n",
        "For example,* it can't be my new phone in this box. The box is much too big.*  \n",
        "\n",
        " it couldn't be delicious candy.  \n",
        " it couldn't be a heavy book. "
      ]
    },
    {
      "metadata": {
        "id": "shdfYvEI_LXA",
        "colab_type": "text"
      },
      "cell_type": "markdown",
      "source": [
        "# **Questions with Modals**"
      ]
    },
    {
      "metadata": {
        "id": "M9B847m-_MGx",
        "colab_type": "text"
      },
      "cell_type": "markdown",
      "source": [
        "With true modal verbs, we used the modal followed by the subject and then the main verb.  \n",
        "\n",
        "modal verbs + subject + main verb.\n"
      ]
    },
    {
      "metadata": {
        "id": "gvZ3zOv9_vHI",
        "colab_type": "text"
      },
      "cell_type": "markdown",
      "source": [
        "Could you come early to my party?   \n",
        "Should we practice?  \n",
        "when should we practice?  \n",
        "Where should we practice?   \n",
        "why should we practice?"
      ]
    },
    {
      "metadata": {
        "id": "UYSDgJr-AXe3",
        "colab_type": "text"
      },
      "cell_type": "markdown",
      "source": [
        "Making questions with phrasal modals is a little different. Let's start with have to.  \n",
        "\n",
        "Do I have to dance?  \n",
        "I have to dance.\n",
        "\n",
        "are you able to come?  \n",
        "I am able to come.  \n",
        "\n",
        "when are you able to come?  \n",
        "Where can I find the bathroom?  \n",
        "Will you dance with me?  \n",
        "may I have something to drink?  \n",
        "where should I put this gift?  \n",
        "do you have to leave early?  \n"
      ]
    }
  ]
}