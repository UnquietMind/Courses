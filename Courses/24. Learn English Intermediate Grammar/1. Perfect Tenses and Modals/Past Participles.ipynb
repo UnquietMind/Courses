{
 "cells": [
  {
   "cell_type": "markdown",
   "metadata": {},
   "source": [
    "### Past Participles "
   ]
  },
  {
   "cell_type": "markdown",
   "metadata": {},
   "source": [
    "### Simple Form - Simple Past - Past Participle"
   ]
  },
  {
   "cell_type": "markdown",
   "metadata": {},
   "source": [
    "fly - flew - flown  \n",
    "go - went - gone  \n",
    "swim - swam - swum  \n",
    "eat - ate - eaten"
   ]
  },
  {
   "cell_type": "markdown",
   "metadata": {},
   "source": [
    "want - wanted - wanted  \n",
    "look - looked - looked  "
   ]
  },
  {
   "cell_type": "markdown",
   "metadata": {},
   "source": [
    "### past participles cannot be the only verb in a sentence!"
   ]
  },
  {
   "cell_type": "markdown",
   "metadata": {},
   "source": [
    "#### Wrong: I flown in an airplae."
   ]
  },
  {
   "cell_type": "markdown",
   "metadata": {},
   "source": [
    "#### Present perfect"
   ]
  },
  {
   "cell_type": "markdown",
   "metadata": {},
   "source": [
    "Right: I <font color=red>have flown</font> in an airplane."
   ]
  },
  {
   "cell_type": "markdown",
   "metadata": {},
   "source": [
    "#### Past perfect"
   ]
  },
  {
   "cell_type": "markdown",
   "metadata": {},
   "source": [
    "Right: I <font color=red>had flown</font> in an airplane."
   ]
  },
  {
   "cell_type": "markdown",
   "metadata": {},
   "source": [
    "============="
   ]
  },
  {
   "cell_type": "markdown",
   "metadata": {},
   "source": [
    "#### present perfent = has/have + past participle"
   ]
  },
  {
   "cell_type": "markdown",
   "metadata": {},
   "source": [
    "specified time = for/since  \n",
    "1. start time is said  \n",
    "2. focus on duration"
   ]
  },
  {
   "cell_type": "markdown",
   "metadata": {},
   "source": [
    "#### I have lived in Chengdu since 2009."
   ]
  },
  {
   "cell_type": "markdown",
   "metadata": {},
   "source": [
    "lived chengdu form 2009 and still live here now."
   ]
  },
  {
   "cell_type": "markdown",
   "metadata": {},
   "source": [
    "-----------------------------"
   ]
  },
  {
   "cell_type": "markdown",
   "metadata": {},
   "source": [
    "unspecified time = no for/since"
   ]
  },
  {
   "cell_type": "markdown",
   "metadata": {},
   "source": [
    "1. start time is unsaid\n",
    "2. focus on experience"
   ]
  },
  {
   "cell_type": "markdown",
   "metadata": {},
   "source": [
    "#### I have lived in Chengdu."
   ]
  },
  {
   "cell_type": "markdown",
   "metadata": {},
   "source": [
    "lived chengdu sometime before now. focus on what I did, not when I did it."
   ]
  },
  {
   "cell_type": "markdown",
   "metadata": {},
   "source": [
    "I've lived in New York.  \n",
    "I haven't lived in Japan.   "
   ]
  },
  {
   "cell_type": "markdown",
   "metadata": {},
   "source": [
    "### which sentence is correct?"
   ]
  },
  {
   "cell_type": "markdown",
   "metadata": {},
   "source": [
    "1. Judy has visited Thailand in 2015. \n",
    "2. Judy has visited Thailand many times.   \n",
    "2"
   ]
  },
  {
   "cell_type": "markdown",
   "metadata": {},
   "source": [
    "judy visited Thailand in 2015."
   ]
  },
  {
   "cell_type": "markdown",
   "metadata": {},
   "source": [
    "1. I drank two lassi this morning.  # past simple, breakfast finished.\n",
    "2. I have drunk two lassi this morning. # it's still breakfast time"
   ]
  },
  {
   "cell_type": "code",
   "execution_count": null,
   "metadata": {},
   "outputs": [],
   "source": []
  }
 ],
 "metadata": {
  "kernelspec": {
   "display_name": "Python 3",
   "language": "python",
   "name": "python3"
  },
  "language_info": {
   "codemirror_mode": {
    "name": "ipython",
    "version": 3
   },
   "file_extension": ".py",
   "mimetype": "text/x-python",
   "name": "python",
   "nbconvert_exporter": "python",
   "pygments_lexer": "ipython3",
   "version": "3.6.7"
  }
 },
 "nbformat": 4,
 "nbformat_minor": 2
}
