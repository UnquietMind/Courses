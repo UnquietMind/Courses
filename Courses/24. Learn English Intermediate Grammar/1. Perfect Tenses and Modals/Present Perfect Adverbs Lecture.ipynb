{
 "cells": [
  {
   "cell_type": "markdown",
   "metadata": {},
   "source": [
    "### Present Perfect Adverbs Lecture"
   ]
  },
  {
   "cell_type": "markdown",
   "metadata": {},
   "source": [
    "Present Perfect tense:  \n",
    "Frequently used adverbs  "
   ]
  },
  {
   "cell_type": "markdown",
   "metadata": {},
   "source": [
    "1. Have you <font color=red>ever</font> to Canada?\n",
    "2. I've <font color=red>never</font> gone alone.\n",
    "3. I haven't tried it <font color=red>yet</font>.\n",
    "4. I've <font color=red>already</font> purchased a plane ticket."
   ]
  },
  {
   "cell_type": "markdown",
   "metadata": {},
   "source": [
    "Adverb - Use - Meaning  \n",
    "Ever:   questions(aff./neg.)  / eperienced at some time in your life  \n",
    "Never:  statements(Neg.)    /  not experienced at any time in your life  \n",
    "Yet: questions(aff/neg)&statements(neg) / not finished but you will  \n",
    "Already:  questions(aff/neg)&statements(aff)  / finished and there is no need to do it again  "
   ]
  },
  {
   "cell_type": "markdown",
   "metadata": {},
   "source": [
    "### Ever & Never"
   ]
  },
  {
   "cell_type": "markdown",
   "metadata": {},
   "source": [
    "#### Have you <font color=red>ever</font> ridden an elephant?"
   ]
  },
  {
   "cell_type": "markdown",
   "metadata": {},
   "source": [
    "Have/Has + subject + ever + past participle"
   ]
  },
  {
   "cell_type": "markdown",
   "metadata": {},
   "source": [
    "#### answer:"
   ]
  },
  {
   "cell_type": "markdown",
   "metadata": {},
   "source": [
    "1. Yes, I have. = Yes, I have ridden an elephant.\n",
    "2. No, I haven't. = No, I have <font color=red>never</font> ridden an elephant.  \n",
    "Subject + have/has + never + past participle"
   ]
  },
  {
   "cell_type": "markdown",
   "metadata": {},
   "source": [
    "### Yet & Already"
   ]
  },
  {
   "cell_type": "markdown",
   "metadata": {},
   "source": [
    "#### Have you brushed your teeth <font color=red>yet</font>?"
   ]
  },
  {
   "cell_type": "markdown",
   "metadata": {},
   "source": [
    "1. No, I haven't brushed my teeth <font color=red>yet</font>.\n",
    "2. Yes, I've brushed my teeth.\n",
    "3. Yes, I've already brushed my teeth (already).(emphise it's a finished action)"
   ]
  },
  {
   "cell_type": "markdown",
   "metadata": {},
   "source": [
    "#### Haven't you finished your homework yet?"
   ]
  },
  {
   "cell_type": "markdown",
   "metadata": {},
   "source": [
    "1. No, I haven't finished my homework yet.\n",
    "2. Yes, I've already finished my homework.  \n",
    "3. Yes, I've finished my homework already."
   ]
  },
  {
   "cell_type": "code",
   "execution_count": null,
   "metadata": {},
   "outputs": [],
   "source": []
  }
 ],
 "metadata": {
  "kernelspec": {
   "display_name": "Python 3",
   "language": "python",
   "name": "python3"
  },
  "language_info": {
   "codemirror_mode": {
    "name": "ipython",
    "version": 3
   },
   "file_extension": ".py",
   "mimetype": "text/x-python",
   "name": "python",
   "nbconvert_exporter": "python",
   "pygments_lexer": "ipython3",
   "version": "3.6.7"
  }
 },
 "nbformat": 4,
 "nbformat_minor": 2
}
