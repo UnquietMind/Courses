{
 "cells": [
  {
   "cell_type": "markdown",
   "metadata": {},
   "source": [
    "## present perfect - form"
   ]
  },
  {
   "cell_type": "markdown",
   "metadata": {},
   "source": [
    "#### have/has (not) + past participle"
   ]
  },
  {
   "cell_type": "markdown",
   "metadata": {},
   "source": [
    "##### 1. Judy <font color=red><b>has traveled</b></font> all over the world."
   ]
  },
  {
   "cell_type": "markdown",
   "metadata": {},
   "source": [
    "##### 2. Job <font color=red><b>has not visited</b></font> every country."
   ]
  },
  {
   "cell_type": "markdown",
   "metadata": {},
   "source": [
    "##### 3. They <font color=red><b>have met</b></font> friends from other coultures."
   ]
  },
  {
   "cell_type": "markdown",
   "metadata": {},
   "source": [
    "### contraction form:"
   ]
  },
  {
   "cell_type": "markdown",
   "metadata": {},
   "source": [
    "##### affirmative:"
   ]
  },
  {
   "cell_type": "markdown",
   "metadata": {},
   "source": [
    "##### I've/You've/He's/She's/They've/We'ev + p.p"
   ]
  },
  {
   "cell_type": "markdown",
   "metadata": {},
   "source": [
    "##### negative:"
   ]
  },
  {
   "cell_type": "markdown",
   "metadata": {},
   "source": [
    "##### hasn't/haven't + p.p"
   ]
  },
  {
   "cell_type": "markdown",
   "metadata": {},
   "source": [
    "## present perfect - uses"
   ]
  },
  {
   "cell_type": "markdown",
   "metadata": {},
   "source": [
    "### I <font color=red>have traveled</font> to China.\n",
    "1. unspecified  time in the past\n",
    "\n",
    "a. activity started and finished in the past.  \n",
    "b. no mention of a specific time(last week, yestoday).  \n",
    "c. it is not important when the even happened, but rather it's about life experience.  \n",
    "d. may describe repeaeted events(_ times) // to describe repeated event in the past. e.g: I have traveled\n",
    "to China three times."
   ]
  },
  {
   "cell_type": "markdown",
   "metadata": {},
   "source": [
    "### I <font color=red>have lived</font> here <font color=red>for</font> three years.\n",
    "2. since/for"
   ]
  },
  {
   "cell_type": "markdown",
   "metadata": {},
   "source": [
    "a. activity started in the past and is still going on now. e.g: I have lived here for three years.\n",
    "means I moved here three years ago and I am still living here.  \n",
    "b. how long // it's used to talk about how long an activity has been going on  \n",
    "c. for + duration of time (1 year, 3 days)  \n",
    "d. since + specific time in the past(yestoday, September, 9:00)"
   ]
  },
  {
   "cell_type": "markdown",
   "metadata": {},
   "source": [
    "#### examples:"
   ]
  },
  {
   "cell_type": "markdown",
   "metadata": {},
   "source": [
    "She has traveled all over the world.  <font color=red>\"completed past event, no specific time\"</font>  \n",
    "She has lived in China and Japan.      <font color=red>\"completed past event, no specific time\"</font>  \n",
    "She has studied English for fifteen years.  <font color=red>event started in the past and is still going on</font>  \n",
    "She has been a member of the club since 2014.   <font color=red>event started in the past and is still going on</font>  \n",
    "\n",
    "\n",
    "He has traveled to Europe and Latin America.  \n",
    "He has never lived in another country.  \n",
    "He has studied English for five years.  \n",
    "He has been a member of club since 2013.  "
   ]
  },
  {
   "cell_type": "code",
   "execution_count": null,
   "metadata": {},
   "outputs": [],
   "source": []
  }
 ],
 "metadata": {
  "kernelspec": {
   "display_name": "Python 3",
   "language": "python",
   "name": "python3"
  },
  "language_info": {
   "codemirror_mode": {
    "name": "ipython",
    "version": 3
   },
   "file_extension": ".py",
   "mimetype": "text/x-python",
   "name": "python",
   "nbconvert_exporter": "python",
   "pygments_lexer": "ipython3",
   "version": "3.6.7"
  }
 },
 "nbformat": 4,
 "nbformat_minor": 2
}
