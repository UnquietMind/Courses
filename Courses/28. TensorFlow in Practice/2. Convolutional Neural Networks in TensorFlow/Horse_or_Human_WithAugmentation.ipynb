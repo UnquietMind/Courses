{
  "nbformat": 4,
  "nbformat_minor": 0,
  "metadata": {
    "colab": {
      "name": "Horse-or-Human-WithAugmentation.ipynb",
      "version": "0.3.2",
      "provenance": [],
      "collapsed_sections": [],
      "toc_visible": true
    },
    "kernelspec": {
      "name": "python3",
      "display_name": "Python 3"
    },
    "accelerator": "GPU"
  },
  "cells": [
    {
      "cell_type": "code",
      "metadata": {
        "colab_type": "code",
        "id": "RXZT2UsyIVe_",
        "colab": {
          "base_uri": "https://localhost:8080/",
          "height": 413
        },
        "outputId": "318e48fe-2620-4347-83df-500a30a694a0"
      },
      "source": [
        "!wget --no-check-certificate \\\n",
        "    https://storage.googleapis.com/laurencemoroney-blog.appspot.com/horse-or-human.zip \\\n",
        "    -O /tmp/horse-or-human.zip\n",
        "\n",
        "!wget --no-check-certificate \\\n",
        "    https://storage.googleapis.com/laurencemoroney-blog.appspot.com/validation-horse-or-human.zip \\\n",
        "    -O /tmp/validation-horse-or-human.zip\n",
        "  \n",
        "import os\n",
        "import zipfile\n",
        "\n",
        "local_zip = '/tmp/horse-or-human.zip'\n",
        "zip_ref = zipfile.ZipFile(local_zip, 'r')\n",
        "zip_ref.extractall('/tmp/horse-or-human')\n",
        "local_zip = '/tmp/validation-horse-or-human.zip'\n",
        "zip_ref = zipfile.ZipFile(local_zip, 'r')\n",
        "zip_ref.extractall('/tmp/validation-horse-or-human')\n",
        "zip_ref.close()\n",
        "# Directory with our training horse pictures\n",
        "train_horse_dir = os.path.join('/tmp/horse-or-human/horses')\n",
        "\n",
        "# Directory with our training human pictures\n",
        "train_human_dir = os.path.join('/tmp/horse-or-human/humans')\n",
        "\n",
        "# Directory with our training horse pictures\n",
        "validation_horse_dir = os.path.join('/tmp/validation-horse-or-human/horses')\n",
        "\n",
        "# Directory with our training human pictures\n",
        "validation_human_dir = os.path.join('/tmp/validation-horse-or-human/humans')"
      ],
      "execution_count": 1,
      "outputs": [
        {
          "output_type": "stream",
          "text": [
            "--2019-08-30 02:58:32--  https://storage.googleapis.com/laurencemoroney-blog.appspot.com/horse-or-human.zip\n",
            "Resolving storage.googleapis.com (storage.googleapis.com)... 216.58.197.208, 2404:6800:4004:80b::2010\n",
            "Connecting to storage.googleapis.com (storage.googleapis.com)|216.58.197.208|:443... connected.\n",
            "HTTP request sent, awaiting response... 200 OK\n",
            "Length: 149574867 (143M) [application/zip]\n",
            "Saving to: ‘/tmp/horse-or-human.zip’\n",
            "\n",
            "/tmp/horse-or-human 100%[===================>] 142.65M  77.7MB/s    in 1.8s    \n",
            "\n",
            "2019-08-30 02:58:35 (77.7 MB/s) - ‘/tmp/horse-or-human.zip’ saved [149574867/149574867]\n",
            "\n",
            "--2019-08-30 02:58:38--  https://storage.googleapis.com/laurencemoroney-blog.appspot.com/validation-horse-or-human.zip\n",
            "Resolving storage.googleapis.com (storage.googleapis.com)... 172.217.161.80, 2404:6800:4004:800::2010\n",
            "Connecting to storage.googleapis.com (storage.googleapis.com)|172.217.161.80|:443... connected.\n",
            "HTTP request sent, awaiting response... 200 OK\n",
            "Length: 11480187 (11M) [application/zip]\n",
            "Saving to: ‘/tmp/validation-horse-or-human.zip’\n",
            "\n",
            "/tmp/validation-hor 100%[===================>]  10.95M  --.-KB/s    in 0.06s   \n",
            "\n",
            "2019-08-30 02:58:39 (181 MB/s) - ‘/tmp/validation-horse-or-human.zip’ saved [11480187/11480187]\n",
            "\n"
          ],
          "name": "stdout"
        }
      ]
    },
    {
      "cell_type": "markdown",
      "metadata": {
        "colab_type": "text",
        "id": "5oqBkNBJmtUv"
      },
      "source": [
        "## Building a Small Model from Scratch\n",
        "\n",
        "But before we continue, let's start defining the model:\n",
        "\n",
        "Step 1 will be to import tensorflow."
      ]
    },
    {
      "cell_type": "code",
      "metadata": {
        "id": "qvfZg3LQbD-5",
        "colab_type": "code",
        "colab": {}
      },
      "source": [
        "import tensorflow as tf"
      ],
      "execution_count": 0,
      "outputs": []
    },
    {
      "cell_type": "markdown",
      "metadata": {
        "colab_type": "text",
        "id": "BnhYCP4tdqjC"
      },
      "source": [
        "We then add convolutional layers as in the previous example, and flatten the final result to feed into the densely connected layers."
      ]
    },
    {
      "cell_type": "markdown",
      "metadata": {
        "id": "gokG5HKpdtzm",
        "colab_type": "text"
      },
      "source": [
        "Finally we add the densely connected layers. \n",
        "\n",
        "Note that because we are facing a two-class classification problem, i.e. a *binary classification problem*, we will end our network with a [*sigmoid* activation](https://wikipedia.org/wiki/Sigmoid_function), so that the output of our network will be a single scalar between 0 and 1, encoding the probability that the current image is class 1 (as opposed to class 0)."
      ]
    },
    {
      "cell_type": "code",
      "metadata": {
        "id": "PixZ2s5QbYQ3",
        "colab_type": "code",
        "colab": {
          "base_uri": "https://localhost:8080/",
          "height": 109
        },
        "outputId": "4b496df7-69ff-4e51-d1fe-eeffbd44f3cf"
      },
      "source": [
        "model = tf.keras.models.Sequential([\n",
        "    # Note the input shape is the desired size of the image 300x300 with 3 bytes color\n",
        "    # This is the first convolution\n",
        "    tf.keras.layers.Conv2D(16, (3,3), activation='relu', input_shape=(300, 300, 3)),\n",
        "    tf.keras.layers.MaxPooling2D(2, 2),\n",
        "    # The second convolution\n",
        "    tf.keras.layers.Conv2D(32, (3,3), activation='relu'),\n",
        "    tf.keras.layers.MaxPooling2D(2,2),\n",
        "    # The third convolution\n",
        "    tf.keras.layers.Conv2D(64, (3,3), activation='relu'),\n",
        "    tf.keras.layers.MaxPooling2D(2,2),\n",
        "    # The fourth convolution\n",
        "    tf.keras.layers.Conv2D(64, (3,3), activation='relu'),\n",
        "    tf.keras.layers.MaxPooling2D(2,2),\n",
        "    # The fifth convolution\n",
        "    tf.keras.layers.Conv2D(64, (3,3), activation='relu'),\n",
        "    tf.keras.layers.MaxPooling2D(2,2),\n",
        "    # Flatten the results to feed into a DNN\n",
        "    tf.keras.layers.Flatten(),\n",
        "    # 512 neuron hidden layer\n",
        "    tf.keras.layers.Dense(512, activation='relu'),\n",
        "    # Only 1 output neuron. It will contain a value from 0-1 where 0 for 1 class ('horses') and 1 for the other ('humans')\n",
        "    tf.keras.layers.Dense(1, activation='sigmoid')\n",
        "])"
      ],
      "execution_count": 3,
      "outputs": [
        {
          "output_type": "stream",
          "text": [
            "WARNING: Logging before flag parsing goes to stderr.\n",
            "W0830 02:58:44.437824 140336199354240 deprecation.py:506] From /usr/local/lib/python3.6/dist-packages/tensorflow/python/ops/init_ops.py:1251: calling VarianceScaling.__init__ (from tensorflow.python.ops.init_ops) with dtype is deprecated and will be removed in a future version.\n",
            "Instructions for updating:\n",
            "Call initializer instance with the dtype argument instead of passing it to the constructor\n"
          ],
          "name": "stderr"
        }
      ]
    },
    {
      "cell_type": "code",
      "metadata": {
        "colab_type": "code",
        "id": "8DHWhFP_uhq3",
        "colab": {
          "base_uri": "https://localhost:8080/",
          "height": 91
        },
        "outputId": "4b4398c8-23a3-4aed-8642-903da3b7363b"
      },
      "source": [
        "from tensorflow.keras.optimizers import RMSprop\n",
        "\n",
        "model.compile(loss='binary_crossentropy',\n",
        "              optimizer=RMSprop(lr=1e-4),\n",
        "              metrics=['acc'])"
      ],
      "execution_count": 4,
      "outputs": [
        {
          "output_type": "stream",
          "text": [
            "W0830 02:58:44.665511 140336199354240 deprecation.py:323] From /usr/local/lib/python3.6/dist-packages/tensorflow/python/ops/nn_impl.py:180: add_dispatch_support.<locals>.wrapper (from tensorflow.python.ops.array_ops) is deprecated and will be removed in a future version.\n",
            "Instructions for updating:\n",
            "Use tf.where in 2.0, which has the same broadcast rule as np.where\n"
          ],
          "name": "stderr"
        }
      ]
    },
    {
      "cell_type": "code",
      "metadata": {
        "colab_type": "code",
        "id": "ClebU9NJg99G",
        "colab": {
          "base_uri": "https://localhost:8080/",
          "height": 53
        },
        "outputId": "77d83096-b233-44da-b4cc-ec79f04ce250"
      },
      "source": [
        "from tensorflow.keras.preprocessing.image import ImageDataGenerator\n",
        "\n",
        "# All images will be rescaled by 1./255\n",
        "train_datagen = ImageDataGenerator(\n",
        "      rescale=1./255,\n",
        "      rotation_range=40,\n",
        "      width_shift_range=0.2,\n",
        "      height_shift_range=0.2,\n",
        "      shear_range=0.2,\n",
        "      zoom_range=0.2,\n",
        "      horizontal_flip=True,\n",
        "      fill_mode='nearest')\n",
        "\n",
        "validation_datagen = ImageDataGenerator(rescale=1/255)\n",
        "\n",
        "# Flow training images in batches of 128 using train_datagen generator\n",
        "train_generator = train_datagen.flow_from_directory(\n",
        "        '/tmp/horse-or-human/',  # This is the source directory for training images\n",
        "        target_size=(300, 300),  # All images will be resized to 150x150\n",
        "        batch_size=128,\n",
        "        # Since we use binary_crossentropy loss, we need binary labels\n",
        "        class_mode='binary')\n",
        "\n",
        "# Flow training images in batches of 128 using train_datagen generator\n",
        "validation_generator = validation_datagen.flow_from_directory(\n",
        "        '/tmp/validation-horse-or-human/',  # This is the source directory for training images\n",
        "        target_size=(300, 300),  # All images will be resized to 150x150\n",
        "        batch_size=32,\n",
        "        # Since we use binary_crossentropy loss, we need binary labels\n",
        "        class_mode='binary')"
      ],
      "execution_count": 5,
      "outputs": [
        {
          "output_type": "stream",
          "text": [
            "Found 1027 images belonging to 2 classes.\n",
            "Found 256 images belonging to 2 classes.\n"
          ],
          "name": "stdout"
        }
      ]
    },
    {
      "cell_type": "code",
      "metadata": {
        "colab_type": "code",
        "id": "Fb1_lgobv81m",
        "colab": {
          "base_uri": "https://localhost:8080/",
          "height": 1000
        },
        "outputId": "2bb776ca-3c0e-44ed-c784-e30e1230a9d1"
      },
      "source": [
        "history = model.fit_generator(\n",
        "      train_generator,\n",
        "      steps_per_epoch=8,  \n",
        "      epochs=100,\n",
        "      verbose=1,\n",
        "      validation_data = validation_generator,\n",
        "      validation_steps=8)"
      ],
      "execution_count": 6,
      "outputs": [
        {
          "output_type": "stream",
          "text": [
            "Epoch 1/100\n",
            "8/8 [==============================] - 21s 3s/step - loss: 0.7064 - acc: 0.4783 - val_loss: 0.6802 - val_acc: 0.5664\n",
            "Epoch 2/100\n",
            "8/8 [==============================] - 19s 2s/step - loss: 0.6633 - acc: 0.6296 - val_loss: 0.8010 - val_acc: 0.5000\n",
            "Epoch 3/100\n",
            "8/8 [==============================] - 19s 2s/step - loss: 0.6825 - acc: 0.6207 - val_loss: 0.6569 - val_acc: 0.5000\n",
            "Epoch 4/100\n",
            "8/8 [==============================] - 22s 3s/step - loss: 0.6418 - acc: 0.6738 - val_loss: 0.5983 - val_acc: 0.7305\n",
            "Epoch 5/100\n",
            "8/8 [==============================] - 17s 2s/step - loss: 0.6399 - acc: 0.7106 - val_loss: 0.5592 - val_acc: 0.9297\n",
            "Epoch 6/100\n",
            "8/8 [==============================] - 22s 3s/step - loss: 0.6089 - acc: 0.6992 - val_loss: 0.6396 - val_acc: 0.5391\n",
            "Epoch 7/100\n",
            "8/8 [==============================] - 19s 2s/step - loss: 0.5784 - acc: 0.6941 - val_loss: 0.5408 - val_acc: 0.7031\n",
            "Epoch 8/100\n",
            "8/8 [==============================] - 19s 2s/step - loss: 0.5869 - acc: 0.7086 - val_loss: 0.6036 - val_acc: 0.5938\n",
            "Epoch 9/100\n",
            "8/8 [==============================] - 19s 2s/step - loss: 0.5648 - acc: 0.7353 - val_loss: 0.4343 - val_acc: 0.8867\n",
            "Epoch 10/100\n",
            "8/8 [==============================] - 19s 2s/step - loss: 0.5834 - acc: 0.7430 - val_loss: 0.5557 - val_acc: 0.6719\n",
            "Epoch 11/100\n",
            "8/8 [==============================] - 19s 2s/step - loss: 0.5263 - acc: 0.7386 - val_loss: 0.6947 - val_acc: 0.5703\n",
            "Epoch 12/100\n",
            "8/8 [==============================] - 19s 2s/step - loss: 0.5272 - acc: 0.7664 - val_loss: 0.9568 - val_acc: 0.5195\n",
            "Epoch 13/100\n",
            "8/8 [==============================] - 19s 2s/step - loss: 0.5404 - acc: 0.7308 - val_loss: 0.7248 - val_acc: 0.5703\n",
            "Epoch 14/100\n",
            "8/8 [==============================] - 19s 2s/step - loss: 0.4975 - acc: 0.7753 - val_loss: 0.7055 - val_acc: 0.6055\n",
            "Epoch 15/100\n",
            "8/8 [==============================] - 19s 2s/step - loss: 0.4694 - acc: 0.7742 - val_loss: 0.6882 - val_acc: 0.6367\n",
            "Epoch 16/100\n",
            "8/8 [==============================] - 19s 2s/step - loss: 0.5401 - acc: 0.7264 - val_loss: 1.0863 - val_acc: 0.5430\n",
            "Epoch 17/100\n",
            "8/8 [==============================] - 19s 2s/step - loss: 0.4808 - acc: 0.8009 - val_loss: 0.6649 - val_acc: 0.6797\n",
            "Epoch 18/100\n",
            "8/8 [==============================] - 22s 3s/step - loss: 0.4487 - acc: 0.7930 - val_loss: 0.5271 - val_acc: 0.7656\n",
            "Epoch 19/100\n",
            "8/8 [==============================] - 19s 2s/step - loss: 0.4022 - acc: 0.8087 - val_loss: 1.0806 - val_acc: 0.5859\n",
            "Epoch 20/100\n",
            "8/8 [==============================] - 19s 2s/step - loss: 0.4219 - acc: 0.7942 - val_loss: 0.7903 - val_acc: 0.6758\n",
            "Epoch 21/100\n",
            "8/8 [==============================] - 19s 2s/step - loss: 0.4680 - acc: 0.8042 - val_loss: 0.8218 - val_acc: 0.6680\n",
            "Epoch 22/100\n",
            "8/8 [==============================] - 19s 2s/step - loss: 0.4532 - acc: 0.7731 - val_loss: 1.0533 - val_acc: 0.6133\n",
            "Epoch 23/100\n",
            "8/8 [==============================] - 22s 3s/step - loss: 0.4137 - acc: 0.8086 - val_loss: 0.9874 - val_acc: 0.6289\n",
            "Epoch 24/100\n",
            "8/8 [==============================] - 19s 2s/step - loss: 0.4286 - acc: 0.8009 - val_loss: 1.0518 - val_acc: 0.6172\n",
            "Epoch 25/100\n",
            "8/8 [==============================] - 20s 2s/step - loss: 0.4075 - acc: 0.7964 - val_loss: 1.3073 - val_acc: 0.5859\n",
            "Epoch 26/100\n",
            "8/8 [==============================] - 20s 2s/step - loss: 0.3984 - acc: 0.8187 - val_loss: 0.9377 - val_acc: 0.6836\n",
            "Epoch 27/100\n",
            "8/8 [==============================] - 19s 2s/step - loss: 0.3736 - acc: 0.8220 - val_loss: 1.4886 - val_acc: 0.5742\n",
            "Epoch 28/100\n",
            "8/8 [==============================] - 20s 2s/step - loss: 0.4289 - acc: 0.8020 - val_loss: 1.2592 - val_acc: 0.6016\n",
            "Epoch 29/100\n",
            "8/8 [==============================] - 19s 2s/step - loss: 0.3250 - acc: 0.8454 - val_loss: 1.1991 - val_acc: 0.6250\n",
            "Epoch 30/100\n",
            "8/8 [==============================] - 20s 2s/step - loss: 0.3615 - acc: 0.8476 - val_loss: 2.4455 - val_acc: 0.5156\n",
            "Epoch 31/100\n",
            "8/8 [==============================] - 20s 2s/step - loss: 0.3478 - acc: 0.8198 - val_loss: 1.3629 - val_acc: 0.6133\n",
            "Epoch 32/100\n",
            "8/8 [==============================] - 19s 2s/step - loss: 0.3378 - acc: 0.8387 - val_loss: 0.9809 - val_acc: 0.6836\n",
            "Epoch 33/100\n",
            "8/8 [==============================] - 19s 2s/step - loss: 0.4100 - acc: 0.8198 - val_loss: 1.5252 - val_acc: 0.5781\n",
            "Epoch 34/100\n",
            "8/8 [==============================] - 22s 3s/step - loss: 0.3274 - acc: 0.8613 - val_loss: 1.7094 - val_acc: 0.5742\n",
            "Epoch 35/100\n",
            "8/8 [==============================] - 19s 2s/step - loss: 0.3182 - acc: 0.8376 - val_loss: 1.5618 - val_acc: 0.5820\n",
            "Epoch 36/100\n",
            "8/8 [==============================] - 19s 2s/step - loss: 0.2968 - acc: 0.8710 - val_loss: 1.7309 - val_acc: 0.5781\n",
            "Epoch 37/100\n",
            "8/8 [==============================] - 19s 2s/step - loss: 0.3340 - acc: 0.8387 - val_loss: 1.3328 - val_acc: 0.6484\n",
            "Epoch 38/100\n",
            "8/8 [==============================] - 20s 2s/step - loss: 0.3393 - acc: 0.8331 - val_loss: 1.3183 - val_acc: 0.6289\n",
            "Epoch 39/100\n",
            "8/8 [==============================] - 20s 2s/step - loss: 0.2602 - acc: 0.8843 - val_loss: 2.8993 - val_acc: 0.5312\n",
            "Epoch 40/100\n",
            "8/8 [==============================] - 19s 2s/step - loss: 0.2925 - acc: 0.8598 - val_loss: 1.4359 - val_acc: 0.6406\n",
            "Epoch 41/100\n",
            "8/8 [==============================] - 22s 3s/step - loss: 0.2932 - acc: 0.8682 - val_loss: 1.1262 - val_acc: 0.7070\n",
            "Epoch 42/100\n",
            "8/8 [==============================] - 19s 2s/step - loss: 0.3280 - acc: 0.8532 - val_loss: 1.6124 - val_acc: 0.6406\n",
            "Epoch 43/100\n",
            "8/8 [==============================] - 20s 2s/step - loss: 0.2377 - acc: 0.8999 - val_loss: 1.6559 - val_acc: 0.6484\n",
            "Epoch 44/100\n",
            "8/8 [==============================] - 17s 2s/step - loss: 0.3469 - acc: 0.8359 - val_loss: 0.7505 - val_acc: 0.7656\n",
            "Epoch 45/100\n",
            "8/8 [==============================] - 22s 3s/step - loss: 0.2908 - acc: 0.8799 - val_loss: 1.2988 - val_acc: 0.6914\n",
            "Epoch 46/100\n",
            "8/8 [==============================] - 20s 2s/step - loss: 0.2949 - acc: 0.8732 - val_loss: 1.4764 - val_acc: 0.6719\n",
            "Epoch 47/100\n",
            "8/8 [==============================] - 20s 2s/step - loss: 0.2407 - acc: 0.8843 - val_loss: 1.7936 - val_acc: 0.6406\n",
            "Epoch 48/100\n",
            "8/8 [==============================] - 20s 2s/step - loss: 0.2496 - acc: 0.8832 - val_loss: 0.8389 - val_acc: 0.7617\n",
            "Epoch 49/100\n",
            "8/8 [==============================] - 22s 3s/step - loss: 0.2726 - acc: 0.8809 - val_loss: 2.0748 - val_acc: 0.6016\n",
            "Epoch 50/100\n",
            "8/8 [==============================] - 20s 2s/step - loss: 0.2756 - acc: 0.8710 - val_loss: 1.1225 - val_acc: 0.7148\n",
            "Epoch 51/100\n",
            "8/8 [==============================] - 20s 2s/step - loss: 0.2372 - acc: 0.8843 - val_loss: 1.8745 - val_acc: 0.6328\n",
            "Epoch 52/100\n",
            "8/8 [==============================] - 19s 2s/step - loss: 0.3023 - acc: 0.8643 - val_loss: 1.2902 - val_acc: 0.7109\n",
            "Epoch 53/100\n",
            "8/8 [==============================] - 17s 2s/step - loss: 0.2931 - acc: 0.8876 - val_loss: 1.2013 - val_acc: 0.7305\n",
            "Epoch 54/100\n",
            "8/8 [==============================] - 23s 3s/step - loss: 0.2358 - acc: 0.9014 - val_loss: 1.3555 - val_acc: 0.7148\n",
            "Epoch 55/100\n",
            "8/8 [==============================] - 20s 2s/step - loss: 0.2423 - acc: 0.8888 - val_loss: 1.7341 - val_acc: 0.6289\n",
            "Epoch 56/100\n",
            "8/8 [==============================] - 20s 2s/step - loss: 0.2222 - acc: 0.9010 - val_loss: 1.8363 - val_acc: 0.6445\n",
            "Epoch 57/100\n",
            "8/8 [==============================] - 22s 3s/step - loss: 0.2428 - acc: 0.8896 - val_loss: 1.9016 - val_acc: 0.5977\n",
            "Epoch 58/100\n",
            "8/8 [==============================] - 20s 2s/step - loss: 0.2211 - acc: 0.9010 - val_loss: 1.6323 - val_acc: 0.6602\n",
            "Epoch 59/100\n",
            "8/8 [==============================] - 17s 2s/step - loss: 0.2210 - acc: 0.8721 - val_loss: 1.1247 - val_acc: 0.7148\n",
            "Epoch 60/100\n",
            "8/8 [==============================] - 20s 2s/step - loss: 0.1710 - acc: 0.9344 - val_loss: 2.8223 - val_acc: 0.6016\n",
            "Epoch 61/100\n",
            "8/8 [==============================] - 22s 3s/step - loss: 0.2484 - acc: 0.8936 - val_loss: 2.0433 - val_acc: 0.6406\n",
            "Epoch 62/100\n",
            "8/8 [==============================] - 20s 2s/step - loss: 0.2313 - acc: 0.8910 - val_loss: 2.4225 - val_acc: 0.5859\n",
            "Epoch 63/100\n",
            "8/8 [==============================] - 20s 2s/step - loss: 0.1776 - acc: 0.9244 - val_loss: 2.5539 - val_acc: 0.6250\n",
            "Epoch 64/100\n",
            "8/8 [==============================] - 20s 2s/step - loss: 0.2601 - acc: 0.8832 - val_loss: 1.4385 - val_acc: 0.6875\n",
            "Epoch 65/100\n",
            "8/8 [==============================] - 20s 2s/step - loss: 0.2261 - acc: 0.9143 - val_loss: 3.1088 - val_acc: 0.5273\n",
            "Epoch 66/100\n",
            "8/8 [==============================] - 20s 2s/step - loss: 0.2418 - acc: 0.8899 - val_loss: 1.1422 - val_acc: 0.7266\n",
            "Epoch 67/100\n",
            "8/8 [==============================] - 20s 2s/step - loss: 0.2134 - acc: 0.9043 - val_loss: 3.7700 - val_acc: 0.5234\n",
            "Epoch 68/100\n",
            "8/8 [==============================] - 22s 3s/step - loss: 0.1938 - acc: 0.9170 - val_loss: 2.2041 - val_acc: 0.6406\n",
            "Epoch 69/100\n",
            "8/8 [==============================] - 20s 2s/step - loss: 0.1896 - acc: 0.9244 - val_loss: 2.2892 - val_acc: 0.6289\n",
            "Epoch 70/100\n",
            "8/8 [==============================] - 20s 2s/step - loss: 0.1596 - acc: 0.9221 - val_loss: 1.1774 - val_acc: 0.7383\n",
            "Epoch 71/100\n",
            "8/8 [==============================] - 20s 2s/step - loss: 0.1648 - acc: 0.9288 - val_loss: 2.1591 - val_acc: 0.6445\n",
            "Epoch 72/100\n",
            "8/8 [==============================] - 19s 2s/step - loss: 0.2388 - acc: 0.9055 - val_loss: 1.4614 - val_acc: 0.6797\n",
            "Epoch 73/100\n",
            "8/8 [==============================] - 22s 3s/step - loss: 0.1654 - acc: 0.9385 - val_loss: 1.2793 - val_acc: 0.7344\n",
            "Epoch 74/100\n",
            "8/8 [==============================] - 18s 2s/step - loss: 0.4886 - acc: 0.8760 - val_loss: 2.9690 - val_acc: 0.6055\n",
            "Epoch 75/100\n",
            "8/8 [==============================] - 20s 2s/step - loss: 0.4623 - acc: 0.8754 - val_loss: 1.5999 - val_acc: 0.6641\n",
            "Epoch 76/100\n",
            "8/8 [==============================] - 20s 2s/step - loss: 0.1548 - acc: 0.9355 - val_loss: 1.9190 - val_acc: 0.6445\n",
            "Epoch 77/100\n",
            "8/8 [==============================] - 22s 3s/step - loss: 0.1631 - acc: 0.9414 - val_loss: 2.2234 - val_acc: 0.6289\n",
            "Epoch 78/100\n",
            "8/8 [==============================] - 17s 2s/step - loss: 0.2244 - acc: 0.9031 - val_loss: 3.0664 - val_acc: 0.5312\n",
            "Epoch 79/100\n",
            "8/8 [==============================] - 23s 3s/step - loss: 0.1831 - acc: 0.9375 - val_loss: 2.1824 - val_acc: 0.6289\n",
            "Epoch 80/100\n",
            "8/8 [==============================] - 20s 2s/step - loss: 0.1874 - acc: 0.9266 - val_loss: 2.2339 - val_acc: 0.6289\n",
            "Epoch 81/100\n",
            "8/8 [==============================] - 20s 2s/step - loss: 0.1750 - acc: 0.9321 - val_loss: 1.9592 - val_acc: 0.6562\n",
            "Epoch 82/100\n",
            "8/8 [==============================] - 20s 2s/step - loss: 0.1503 - acc: 0.9410 - val_loss: 6.8756 - val_acc: 0.5000\n",
            "Epoch 83/100\n",
            "8/8 [==============================] - 23s 3s/step - loss: 0.3054 - acc: 0.8955 - val_loss: 2.2403 - val_acc: 0.6289\n",
            "Epoch 84/100\n",
            "8/8 [==============================] - 17s 2s/step - loss: 0.1362 - acc: 0.9496 - val_loss: 2.4966 - val_acc: 0.6289\n",
            "Epoch 85/100\n",
            "8/8 [==============================] - 23s 3s/step - loss: 0.1692 - acc: 0.9326 - val_loss: 1.8008 - val_acc: 0.6797\n",
            "Epoch 86/100\n",
            "8/8 [==============================] - 17s 2s/step - loss: 0.1774 - acc: 0.9367 - val_loss: 3.0496 - val_acc: 0.6133\n",
            "Epoch 87/100\n",
            "8/8 [==============================] - 23s 3s/step - loss: 0.1784 - acc: 0.9199 - val_loss: 2.5553 - val_acc: 0.6289\n",
            "Epoch 88/100\n",
            "8/8 [==============================] - 20s 2s/step - loss: 0.2623 - acc: 0.9221 - val_loss: 1.6745 - val_acc: 0.7109\n",
            "Epoch 89/100\n",
            "8/8 [==============================] - 20s 2s/step - loss: 0.1570 - acc: 0.9444 - val_loss: 1.6143 - val_acc: 0.7031\n",
            "Epoch 90/100\n",
            "8/8 [==============================] - 20s 2s/step - loss: 0.1394 - acc: 0.9555 - val_loss: 1.4037 - val_acc: 0.7227\n",
            "Epoch 91/100\n",
            "8/8 [==============================] - 20s 3s/step - loss: 0.2241 - acc: 0.8988 - val_loss: 2.1951 - val_acc: 0.6523\n",
            "Epoch 92/100\n",
            "8/8 [==============================] - 20s 2s/step - loss: 0.1486 - acc: 0.9355 - val_loss: 2.6193 - val_acc: 0.6328\n",
            "Epoch 93/100\n",
            "8/8 [==============================] - 20s 2s/step - loss: 0.1677 - acc: 0.9344 - val_loss: 0.8079 - val_acc: 0.7930\n",
            "Epoch 94/100\n",
            "8/8 [==============================] - 22s 3s/step - loss: 0.1516 - acc: 0.9443 - val_loss: 3.1970 - val_acc: 0.6133\n",
            "Epoch 95/100\n",
            "8/8 [==============================] - 20s 2s/step - loss: 0.1687 - acc: 0.9188 - val_loss: 2.6931 - val_acc: 0.6289\n",
            "Epoch 96/100\n",
            "8/8 [==============================] - 20s 2s/step - loss: 0.1876 - acc: 0.9333 - val_loss: 1.7984 - val_acc: 0.6836\n",
            "Epoch 97/100\n",
            "8/8 [==============================] - 17s 2s/step - loss: 0.4271 - acc: 0.8992 - val_loss: 3.5976 - val_acc: 0.6055\n",
            "Epoch 98/100\n",
            "8/8 [==============================] - 24s 3s/step - loss: 0.1363 - acc: 0.9512 - val_loss: 2.8808 - val_acc: 0.6211\n",
            "Epoch 99/100\n",
            "8/8 [==============================] - 20s 2s/step - loss: 0.0961 - acc: 0.9733 - val_loss: 2.7567 - val_acc: 0.6328\n",
            "Epoch 100/100\n",
            "8/8 [==============================] - 20s 3s/step - loss: 0.0944 - acc: 0.9689 - val_loss: 2.5087 - val_acc: 0.6641\n"
          ],
          "name": "stdout"
        }
      ]
    },
    {
      "cell_type": "code",
      "metadata": {
        "id": "7zNPRWOVJdOH",
        "colab_type": "code",
        "colab": {
          "base_uri": "https://localhost:8080/",
          "height": 545
        },
        "outputId": "8612f59e-d5ef-46b2-c37a-bfb60a49eef0"
      },
      "source": [
        "import matplotlib.pyplot as plt\n",
        "acc = history.history['acc']\n",
        "val_acc = history.history['val_acc']\n",
        "loss = history.history['loss']\n",
        "val_loss = history.history['val_loss']\n",
        "\n",
        "epochs = range(len(acc))\n",
        "\n",
        "plt.plot(epochs, acc, 'r', label='Training accuracy')\n",
        "plt.plot(epochs, val_acc, 'b', label='Validation accuracy')\n",
        "plt.title('Training and validation accuracy')\n",
        "\n",
        "plt.figure()\n",
        "\n",
        "plt.plot(epochs, loss, 'r', label='Training Loss')\n",
        "plt.plot(epochs, val_loss, 'b', label='Validation Loss')\n",
        "plt.title('Training and validation loss')\n",
        "plt.legend()\n",
        "\n",
        "plt.show()"
      ],
      "execution_count": 7,
      "outputs": [
        {
          "output_type": "display_data",
          "data": {
            "image/png": "[encoded data removed]",
            "text/plain": [
              "<Figure size 432x288 with 1 Axes>"
            ]
          },
          "metadata": {
            "tags": []
          }
        },
        {
          "output_type": "display_data",
          "data": {
            "image/png": "[encoded data removed]",
            "text/plain": [
              "<Figure size 432x288 with 1 Axes>"
            ]
          },
          "metadata": {
            "tags": []
          }
        }
      ]
    }
  ]
}