{
  "nbformat": 4,
  "nbformat_minor": 0,
  "metadata": {
    "colab": {
      "name": "NLP Course - Week 3 Exercise Question.ipynb",
      "version": "0.3.2",
      "provenance": []
    },
    "kernelspec": {
      "name": "python3",
      "display_name": "Python 3"
    },
    "accelerator": "GPU"
  },
  "cells": [
    {
      "cell_type": "code",
      "metadata": {
        "id": "hmA6EzkQJ5jt",
        "colab_type": "code",
        "colab": {}
      },
      "source": [
        "import json\n",
        "import tensorflow as tf\n",
        "import csv\n",
        "import random\n",
        "import numpy as np\n",
        "\n",
        "from tensorflow.keras.preprocessing.text import Tokenizer\n",
        "from tensorflow.keras.preprocessing.sequence import pad_sequences\n",
        "from tensorflow.keras.utils import to_categorical\n",
        "from tensorflow.keras import regularizers\n",
        "\n",
        "\n",
        "embedding_dim = 100\n",
        "max_length = 16\n",
        "trunc_type='post'\n",
        "padding_type='post'\n",
        "oov_tok = \"<OOV>\"\n",
        "training_size= 160000 #Your dataset size here. Experiment using smaller values (i.e. 16000), but don't forget to train on at least 160000 to see the best effects\n",
        "test_portion=.1\n",
        "\n",
        "corpus = []\n"
      ],
      "execution_count": 0,
      "outputs": []
    },
    {
      "cell_type": "code",
      "metadata": {
        "id": "bM0l_dORKqE0",
        "colab_type": "code",
        "outputId": "d76f3326-89bd-4238-f651-357fb6887c50",
        "colab": {
          "base_uri": "https://localhost:8080/",
          "height": 204
        }
      },
      "source": [
        "\n",
        "# Note that I cleaned the Stanford dataset to remove LATIN1 encoding to make it easier for Python CSV reader\n",
        "# You can do that yourself with:\n",
        "# iconv -f LATIN1 -t UTF8 training.1600000.processed.noemoticon.csv -o training_cleaned.csv\n",
        "# I then hosted it on my site to make it easier to use in this notebook\n",
        "\n",
        "!wget --no-check-certificate \\\n",
        "    https://storage.googleapis.com/laurencemoroney-blog.appspot.com/training_cleaned.csv \\\n",
        "    -O /tmp/training_cleaned.csv\n",
        "\n",
        "num_sentences = 0\n",
        "\n",
        "with open(\"/tmp/training_cleaned.csv\") as csvfile:\n",
        "    reader = csv.reader(csvfile, delimiter=',')\n",
        "    for row in reader:\n",
        "        list_item=[]\n",
        "        list_item.append(row[5])\n",
        "        this_label=row[0]\n",
        "        if this_label=='0':\n",
        "            list_item.append(0)\n",
        "        else:\n",
        "            list_item.append(1)\n",
        "        num_sentences = num_sentences + 1\n",
        "        corpus.append(list_item)\n",
        "\n",
        "\n"
      ],
      "execution_count": 2,
      "outputs": [
        {
          "output_type": "stream",
          "text": [
            "--2019-09-03 11:20:46--  https://storage.googleapis.com/laurencemoroney-blog.appspot.com/training_cleaned.csv\n",
            "Resolving storage.googleapis.com (storage.googleapis.com)... 172.217.161.80, 2404:6800:4004:808::2010\n",
            "Connecting to storage.googleapis.com (storage.googleapis.com)|172.217.161.80|:443... connected.\n",
            "HTTP request sent, awaiting response... 200 OK\n",
            "Length: 238942690 (228M) [application/octet-stream]\n",
            "Saving to: ‘/tmp/training_cleaned.csv’\n",
            "\n",
            "/tmp/training_clean 100%[===================>] 227.87M   102MB/s    in 2.2s    \n",
            "\n",
            "2019-09-03 11:20:48 (102 MB/s) - ‘/tmp/training_cleaned.csv’ saved [238942690/238942690]\n",
            "\n"
          ],
          "name": "stdout"
        }
      ]
    },
    {
      "cell_type": "code",
      "metadata": {
        "id": "3kxblBUjEUX-",
        "colab_type": "code",
        "outputId": "d5a30706-15ab-4178-9215-e50660e63127",
        "colab": {
          "base_uri": "https://localhost:8080/",
          "height": 68
        }
      },
      "source": [
        "print(num_sentences)\n",
        "print(len(corpus))\n",
        "print(corpus[1])\n",
        "\n",
        "# Expected Output:\n",
        "# 1600000\n",
        "# 1600000\n",
        "# [\"is upset that he can't update his Facebook by texting it... and might cry as a result  School today also. Blah!\", 0]"
      ],
      "execution_count": 3,
      "outputs": [
        {
          "output_type": "stream",
          "text": [
            "1600000\n",
            "1600000\n",
            "[\"is upset that he can't update his Facebook by texting it... and might cry as a result  School today also. Blah!\", 0]\n"
          ],
          "name": "stdout"
        }
      ]
    },
    {
      "cell_type": "code",
      "metadata": {
        "id": "ohOGz24lsNAD",
        "colab_type": "code",
        "colab": {}
      },
      "source": [
        "sentences=[]\n",
        "labels=[]\n",
        "random.shuffle(corpus)\n",
        "for x in range(training_size):\n",
        "    sentences.append(corpus[x][0])\n",
        "    labels.append(corpus[x][1])\n",
        "\n",
        "\n",
        "tokenizer = Tokenizer()\n",
        "tokenizer.fit_on_texts(sentences)\n",
        "\n",
        "word_index = tokenizer.word_index\n",
        "vocab_size=len(word_index)\n",
        "\n",
        "sequences = tokenizer.texts_to_sequences(sentences)\n",
        "padded = pad_sequences(sequences, maxlen=max_length, padding=padding_type, truncating=trunc_type)\n",
        "\n",
        "split = int(test_portion * training_size)\n",
        "\n",
        "test_sequences = padded[0:split]\n",
        "training_sequences = padded[split:training_size]\n",
        "test_labels = labels[0:split]\n",
        "training_labels = labels[split:training_size]"
      ],
      "execution_count": 0,
      "outputs": []
    },
    {
      "cell_type": "code",
      "metadata": {
        "id": "gIrtRem1En3N",
        "colab_type": "code",
        "outputId": "eee7dacb-c302-45ab-f174-16f6b0563117",
        "colab": {
          "base_uri": "https://localhost:8080/",
          "height": 51
        }
      },
      "source": [
        "print(vocab_size)\n",
        "print(word_index['i'])\n",
        "# Expected Output\n",
        "# 138858\n",
        "# 1"
      ],
      "execution_count": 5,
      "outputs": [
        {
          "output_type": "stream",
          "text": [
            "138878\n",
            "1\n"
          ],
          "name": "stdout"
        }
      ]
    },
    {
      "cell_type": "code",
      "metadata": {
        "id": "C1zdgJkusRh0",
        "colab_type": "code",
        "outputId": "b6ce3c9d-84e2-45d1-8da0-2ced793bc1b3",
        "colab": {
          "base_uri": "https://localhost:8080/",
          "height": 204
        }
      },
      "source": [
        "# Note this is the 100 dimension version of GloVe from Stanford\n",
        "# I unzipped and hosted it on my site to make this notebook easier\n",
        "!wget --no-check-certificate \\\n",
        "    https://storage.googleapis.com/laurencemoroney-blog.appspot.com/glove.6B.100d.txt \\\n",
        "    -O /tmp/glove.6B.100d.txt\n",
        "embeddings_index = {};\n",
        "with open('/tmp/glove.6B.100d.txt') as f:\n",
        "    for line in f:\n",
        "        values = line.split();\n",
        "        word = values[0];\n",
        "        coefs = np.asarray(values[1:], dtype='float32');\n",
        "        embeddings_index[word] = coefs;\n",
        "\n",
        "embeddings_matrix = np.zeros((vocab_size+1, embedding_dim));\n",
        "for word, i in word_index.items():\n",
        "    embedding_vector = embeddings_index.get(word);\n",
        "    if embedding_vector is not None:\n",
        "        embeddings_matrix[i] = embedding_vector;"
      ],
      "execution_count": 6,
      "outputs": [
        {
          "output_type": "stream",
          "text": [
            "--2019-09-03 11:22:03--  https://storage.googleapis.com/laurencemoroney-blog.appspot.com/glove.6B.100d.txt\n",
            "Resolving storage.googleapis.com (storage.googleapis.com)... 172.217.26.16, 2404:6800:4004:80b::2010\n",
            "Connecting to storage.googleapis.com (storage.googleapis.com)|172.217.26.16|:443... connected.\n",
            "HTTP request sent, awaiting response... 200 OK\n",
            "Length: 347116733 (331M) [text/plain]\n",
            "Saving to: ‘/tmp/glove.6B.100d.txt’\n",
            "\n",
            "/tmp/glove.6B.100d. 100%[===================>] 331.04M  97.9MB/s    in 3.4s    \n",
            "\n",
            "2019-09-03 11:22:07 (97.9 MB/s) - ‘/tmp/glove.6B.100d.txt’ saved [347116733/347116733]\n",
            "\n"
          ],
          "name": "stdout"
        }
      ]
    },
    {
      "cell_type": "code",
      "metadata": {
        "id": "71NLk_lpFLNt",
        "colab_type": "code",
        "outputId": "39fd1221-da3b-4410-b448-251f6d2848b0",
        "colab": {
          "base_uri": "https://localhost:8080/",
          "height": 34
        }
      },
      "source": [
        "print(len(embeddings_matrix))\n",
        "# Expected Output\n",
        "# 138859"
      ],
      "execution_count": 7,
      "outputs": [
        {
          "output_type": "stream",
          "text": [
            "138879\n"
          ],
          "name": "stdout"
        }
      ]
    },
    {
      "cell_type": "code",
      "metadata": {
        "colab_type": "code",
        "id": "iKKvbuEBOGFz",
        "colab": {
          "base_uri": "https://localhost:8080/",
          "height": 1000
        },
        "outputId": "aa926951-a77a-4e30-ef53-9cee14ba5d72"
      },
      "source": [
        "model = tf.keras.Sequential([\n",
        "    tf.keras.layers.Embedding(vocab_size+1, embedding_dim, input_length=max_length, weights=[embeddings_matrix], trainable=False),\n",
        "    tf.keras.layers.Dropout(0.2),\n",
        "    tf.keras.layers.Conv1D(64, 5, activation='relu'),\n",
        "    tf.keras.layers.MaxPooling1D(pool_size=4),\n",
        "    tf.keras.layers.LSTM(64),\n",
        "    tf.keras.layers.Dense(1, activation='sigmoid')\n",
        "])\n",
        "model.compile(loss='binary_crossentropy',optimizer='adam',metrics=['accuracy'])\n",
        "model.summary()\n",
        "\n",
        "num_epochs = 50\n",
        "history = model.fit(training_sequences, training_labels, epochs=num_epochs, validation_data=(test_sequences, test_labels), verbose=2)\n",
        "\n",
        "print(\"Training Complete\")\n"
      ],
      "execution_count": 8,
      "outputs": [
        {
          "output_type": "stream",
          "text": [
            "WARNING: Logging before flag parsing goes to stderr.\n",
            "W0903 11:22:23.659001 139842141722496 deprecation.py:506] From /usr/local/lib/python3.6/dist-packages/tensorflow/python/keras/initializers.py:119: calling RandomUniform.__init__ (from tensorflow.python.ops.init_ops) with dtype is deprecated and will be removed in a future version.\n",
            "Instructions for updating:\n",
            "Call initializer instance with the dtype argument instead of passing it to the constructor\n",
            "W0903 11:22:23.664158 139842141722496 deprecation.py:506] From /usr/local/lib/python3.6/dist-packages/tensorflow/python/ops/init_ops.py:1251: calling VarianceScaling.__init__ (from tensorflow.python.ops.init_ops) with dtype is deprecated and will be removed in a future version.\n",
            "Instructions for updating:\n",
            "Call initializer instance with the dtype argument instead of passing it to the constructor\n",
            "W0903 11:22:27.479790 139842141722496 deprecation.py:323] From /usr/local/lib/python3.6/dist-packages/tensorflow/python/ops/nn_impl.py:180: add_dispatch_support.<locals>.wrapper (from tensorflow.python.ops.array_ops) is deprecated and will be removed in a future version.\n",
            "Instructions for updating:\n",
            "Use tf.where in 2.0, which has the same broadcast rule as np.where\n"
          ],
          "name": "stderr"
        },
        {
          "output_type": "stream",
          "text": [
            "Model: \"sequential\"\n",
            "_________________________________________________________________\n",
            "Layer (type)                 Output Shape              Param #   \n",
            "=================================================================\n",
            "embedding (Embedding)        (None, 16, 100)           13887900  \n",
            "_________________________________________________________________\n",
            "dropout (Dropout)            (None, 16, 100)           0         \n",
            "_________________________________________________________________\n",
            "conv1d (Conv1D)              (None, 12, 64)            32064     \n",
            "_________________________________________________________________\n",
            "max_pooling1d (MaxPooling1D) (None, 3, 64)             0         \n",
            "_________________________________________________________________\n",
            "lstm (LSTM)                  (None, 64)                33024     \n",
            "_________________________________________________________________\n",
            "dense (Dense)                (None, 1)                 65        \n",
            "=================================================================\n",
            "Total params: 13,953,053\n",
            "Trainable params: 65,153\n",
            "Non-trainable params: 13,887,900\n",
            "_________________________________________________________________\n",
            "Train on 144000 samples, validate on 16000 samples\n",
            "Epoch 1/50\n",
            "144000/144000 - 43s - loss: 0.5677 - acc: 0.6993 - val_loss: 0.5227 - val_acc: 0.7371\n",
            "Epoch 2/50\n",
            "144000/144000 - 39s - loss: 0.5268 - acc: 0.7321 - val_loss: 0.5169 - val_acc: 0.7412\n",
            "Epoch 3/50\n",
            "144000/144000 - 39s - loss: 0.5113 - acc: 0.7443 - val_loss: 0.5154 - val_acc: 0.7440\n",
            "Epoch 4/50\n",
            "144000/144000 - 39s - loss: 0.4987 - acc: 0.7527 - val_loss: 0.4973 - val_acc: 0.7541\n",
            "Epoch 5/50\n",
            "144000/144000 - 39s - loss: 0.4896 - acc: 0.7580 - val_loss: 0.5007 - val_acc: 0.7518\n",
            "Epoch 6/50\n",
            "144000/144000 - 39s - loss: 0.4821 - acc: 0.7621 - val_loss: 0.5013 - val_acc: 0.7509\n",
            "Epoch 7/50\n",
            "144000/144000 - 39s - loss: 0.4775 - acc: 0.7673 - val_loss: 0.4978 - val_acc: 0.7575\n",
            "Epoch 8/50\n",
            "144000/144000 - 39s - loss: 0.4734 - acc: 0.7686 - val_loss: 0.4954 - val_acc: 0.7548\n",
            "Epoch 9/50\n",
            "144000/144000 - 39s - loss: 0.4682 - acc: 0.7723 - val_loss: 0.5007 - val_acc: 0.7593\n",
            "Epoch 10/50\n",
            "144000/144000 - 39s - loss: 0.4639 - acc: 0.7745 - val_loss: 0.5040 - val_acc: 0.7557\n",
            "Epoch 11/50\n",
            "144000/144000 - 39s - loss: 0.4607 - acc: 0.7754 - val_loss: 0.5028 - val_acc: 0.7574\n",
            "Epoch 12/50\n",
            "144000/144000 - 39s - loss: 0.4584 - acc: 0.7786 - val_loss: 0.5030 - val_acc: 0.7540\n",
            "Epoch 13/50\n",
            "144000/144000 - 39s - loss: 0.4561 - acc: 0.7797 - val_loss: 0.5033 - val_acc: 0.7583\n",
            "Epoch 14/50\n",
            "144000/144000 - 39s - loss: 0.4537 - acc: 0.7804 - val_loss: 0.5039 - val_acc: 0.7532\n",
            "Epoch 15/50\n",
            "144000/144000 - 39s - loss: 0.4512 - acc: 0.7829 - val_loss: 0.5035 - val_acc: 0.7588\n",
            "Epoch 16/50\n",
            "144000/144000 - 39s - loss: 0.4499 - acc: 0.7840 - val_loss: 0.5110 - val_acc: 0.7587\n",
            "Epoch 17/50\n",
            "144000/144000 - 39s - loss: 0.4470 - acc: 0.7849 - val_loss: 0.5066 - val_acc: 0.7529\n",
            "Epoch 18/50\n",
            "144000/144000 - 39s - loss: 0.4463 - acc: 0.7843 - val_loss: 0.5200 - val_acc: 0.7513\n",
            "Epoch 19/50\n",
            "144000/144000 - 39s - loss: 0.4433 - acc: 0.7869 - val_loss: 0.5093 - val_acc: 0.7555\n",
            "Epoch 20/50\n",
            "144000/144000 - 39s - loss: 0.4431 - acc: 0.7875 - val_loss: 0.5096 - val_acc: 0.7536\n",
            "Epoch 21/50\n",
            "144000/144000 - 39s - loss: 0.4410 - acc: 0.7888 - val_loss: 0.5102 - val_acc: 0.7509\n",
            "Epoch 22/50\n",
            "144000/144000 - 39s - loss: 0.4401 - acc: 0.7891 - val_loss: 0.5120 - val_acc: 0.7555\n",
            "Epoch 23/50\n",
            "144000/144000 - 39s - loss: 0.4401 - acc: 0.7895 - val_loss: 0.5070 - val_acc: 0.7504\n",
            "Epoch 24/50\n",
            "144000/144000 - 39s - loss: 0.4376 - acc: 0.7897 - val_loss: 0.5144 - val_acc: 0.7532\n",
            "Epoch 25/50\n",
            "144000/144000 - 39s - loss: 0.4380 - acc: 0.7905 - val_loss: 0.5130 - val_acc: 0.7533\n",
            "Epoch 26/50\n",
            "144000/144000 - 39s - loss: 0.4378 - acc: 0.7903 - val_loss: 0.5091 - val_acc: 0.7554\n",
            "Epoch 27/50\n",
            "144000/144000 - 39s - loss: 0.4376 - acc: 0.7898 - val_loss: 0.5137 - val_acc: 0.7475\n",
            "Epoch 28/50\n",
            "144000/144000 - 39s - loss: 0.4355 - acc: 0.7917 - val_loss: 0.5129 - val_acc: 0.7534\n",
            "Epoch 29/50\n",
            "144000/144000 - 39s - loss: 0.4358 - acc: 0.7925 - val_loss: 0.5201 - val_acc: 0.7477\n",
            "Epoch 30/50\n",
            "144000/144000 - 39s - loss: 0.4350 - acc: 0.7918 - val_loss: 0.5121 - val_acc: 0.7529\n",
            "Epoch 31/50\n",
            "144000/144000 - 39s - loss: 0.4338 - acc: 0.7925 - val_loss: 0.5173 - val_acc: 0.7536\n",
            "Epoch 32/50\n",
            "144000/144000 - 39s - loss: 0.4326 - acc: 0.7943 - val_loss: 0.5140 - val_acc: 0.7517\n",
            "Epoch 33/50\n",
            "144000/144000 - 39s - loss: 0.4336 - acc: 0.7928 - val_loss: 0.5196 - val_acc: 0.7473\n",
            "Epoch 34/50\n",
            "144000/144000 - 39s - loss: 0.4320 - acc: 0.7934 - val_loss: 0.5167 - val_acc: 0.7524\n",
            "Epoch 35/50\n",
            "144000/144000 - 39s - loss: 0.4316 - acc: 0.7949 - val_loss: 0.5230 - val_acc: 0.7514\n",
            "Epoch 36/50\n",
            "144000/144000 - 39s - loss: 0.4309 - acc: 0.7947 - val_loss: 0.5172 - val_acc: 0.7510\n",
            "Epoch 37/50\n",
            "144000/144000 - 39s - loss: 0.4310 - acc: 0.7950 - val_loss: 0.5209 - val_acc: 0.7527\n",
            "Epoch 38/50\n",
            "144000/144000 - 39s - loss: 0.4304 - acc: 0.7953 - val_loss: 0.5188 - val_acc: 0.7506\n",
            "Epoch 39/50\n",
            "144000/144000 - 39s - loss: 0.4320 - acc: 0.7942 - val_loss: 0.5190 - val_acc: 0.7499\n",
            "Epoch 40/50\n",
            "144000/144000 - 39s - loss: 0.4300 - acc: 0.7950 - val_loss: 0.5226 - val_acc: 0.7492\n",
            "Epoch 41/50\n",
            "144000/144000 - 39s - loss: 0.4300 - acc: 0.7948 - val_loss: 0.5197 - val_acc: 0.7489\n",
            "Epoch 42/50\n",
            "144000/144000 - 39s - loss: 0.4294 - acc: 0.7955 - val_loss: 0.5162 - val_acc: 0.7533\n",
            "Epoch 43/50\n",
            "144000/144000 - 39s - loss: 0.4285 - acc: 0.7953 - val_loss: 0.5181 - val_acc: 0.7499\n",
            "Epoch 44/50\n",
            "144000/144000 - 39s - loss: 0.4282 - acc: 0.7968 - val_loss: 0.5209 - val_acc: 0.7518\n",
            "Epoch 45/50\n",
            "144000/144000 - 39s - loss: 0.4292 - acc: 0.7948 - val_loss: 0.5216 - val_acc: 0.7508\n",
            "Epoch 46/50\n",
            "144000/144000 - 39s - loss: 0.4289 - acc: 0.7955 - val_loss: 0.5187 - val_acc: 0.7542\n",
            "Epoch 47/50\n",
            "144000/144000 - 39s - loss: 0.4270 - acc: 0.7972 - val_loss: 0.5206 - val_acc: 0.7499\n",
            "Epoch 48/50\n",
            "144000/144000 - 39s - loss: 0.4279 - acc: 0.7973 - val_loss: 0.5181 - val_acc: 0.7538\n",
            "Epoch 49/50\n",
            "144000/144000 - 39s - loss: 0.4259 - acc: 0.7979 - val_loss: 0.5176 - val_acc: 0.7498\n",
            "Epoch 50/50\n",
            "144000/144000 - 39s - loss: 0.4274 - acc: 0.7972 - val_loss: 0.5222 - val_acc: 0.7514\n",
            "Training Complete\n"
          ],
          "name": "stdout"
        }
      ]
    },
    {
      "cell_type": "code",
      "metadata": {
        "id": "qxju4ItJKO8F",
        "colab_type": "code",
        "colab": {
          "base_uri": "https://localhost:8080/",
          "height": 607
        },
        "outputId": "829e23a8-87aa-4580-ebaf-848614a33ab7"
      },
      "source": [
        "import matplotlib.image  as mpimg\n",
        "import matplotlib.pyplot as plt\n",
        "\n",
        "#-----------------------------------------------------------\n",
        "# Retrieve a list of list results on training and test data\n",
        "# sets for each training epoch\n",
        "#-----------------------------------------------------------\n",
        "acc=history.history['acc']\n",
        "val_acc=history.history['val_acc']\n",
        "loss=history.history['loss']\n",
        "val_loss=history.history['val_loss']\n",
        "\n",
        "epochs=range(len(acc)) # Get number of epochs\n",
        "\n",
        "#------------------------------------------------\n",
        "# Plot training and validation accuracy per epoch\n",
        "#------------------------------------------------\n",
        "plt.plot(epochs, acc, 'r')\n",
        "plt.plot(epochs, val_acc, 'b')\n",
        "plt.title('Training and validation accuracy')\n",
        "plt.xlabel(\"Epochs\")\n",
        "plt.ylabel(\"Accuracy\")\n",
        "plt.legend([\"Accuracy\", \"Validation Accuracy\"])\n",
        "\n",
        "plt.figure()\n",
        "\n",
        "#------------------------------------------------\n",
        "# Plot training and validation loss per epoch\n",
        "#------------------------------------------------\n",
        "plt.plot(epochs, loss, 'r')\n",
        "plt.plot(epochs, val_loss, 'b')\n",
        "plt.title('Training and validation loss')\n",
        "plt.xlabel(\"Epochs\")\n",
        "plt.ylabel(\"Loss\")\n",
        "plt.legend([\"Loss\", \"Validation Loss\"])\n",
        "\n",
        "plt.figure()\n",
        "\n",
        "\n",
        "# Expected Output\n",
        "# A chart where the validation loss does not increase sharply!"
      ],
      "execution_count": 9,
      "outputs": [
        {
          "output_type": "execute_result",
          "data": {
            "text/plain": [
              "<Figure size 432x288 with 0 Axes>"
            ]
          },
          "metadata": {
            "tags": []
          },
          "execution_count": 9
        },
        {
          "output_type": "display_data",
          "data": {
            "image/png": "[encoded data removed]",
            "text/plain": [
              "<Figure size 432x288 with 1 Axes>"
            ]
          },
          "metadata": {
            "tags": []
          }
        },
        {
          "output_type": "display_data",
          "data": {
            "image/png": "[encoded data removed]",
            "text/plain": [
              "<Figure size 432x288 with 1 Axes>"
            ]
          },
          "metadata": {
            "tags": []
          }
        },
        {
          "output_type": "display_data",
          "data": {
            "text/plain": [
              "<Figure size 432x288 with 0 Axes>"
            ]
          },
          "metadata": {
            "tags": []
          }
        }
      ]
    }
  ]
}