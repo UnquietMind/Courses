{
  "nbformat": 4,
  "nbformat_minor": 0,
  "metadata": {
    "colab": {
      "name": "NLP-Week4-Exercise-Shakespeare-Question.ipynb",
      "version": "0.3.2",
      "provenance": []
    },
    "kernelspec": {
      "name": "python2",
      "display_name": "Python 2"
    },
    "accelerator": "GPU"
  },
  "cells": [
    {
      "cell_type": "code",
      "metadata": {
        "id": "BOwsuGQQY9OL",
        "colab_type": "code",
        "colab": {}
      },
      "source": [
        "from tensorflow.keras.preprocessing.sequence import pad_sequences\n",
        "from tensorflow.keras.layers import Embedding, LSTM, Dense, Dropout, Bidirectional\n",
        "from tensorflow.keras.preprocessing.text import Tokenizer\n",
        "from tensorflow.keras.models import Sequential\n",
        "from tensorflow.keras.optimizers import Adam\n",
        "### YOUR CODE HERE\n",
        "# Figure out how to import regularizers\n",
        "###\n",
        "from tensorflow.keras import regularizers\n",
        "import tensorflow.keras.utils as ku \n",
        "import numpy as np "
      ],
      "execution_count": 0,
      "outputs": []
    },
    {
      "cell_type": "code",
      "metadata": {
        "colab_type": "code",
        "id": "PRnDnCW-Z7qv",
        "colab": {
          "base_uri": "https://localhost:8080/",
          "height": 204
        },
        "outputId": "c442a7d2-69f8-4be8-8504-c380bffb46de"
      },
      "source": [
        "tokenizer = Tokenizer()\n",
        "!wget --no-check-certificate \\\n",
        "    https://storage.googleapis.com/laurencemoroney-blog.appspot.com/sonnets.txt \\\n",
        "    -O /tmp/sonnets.txt\n",
        "data = open('/tmp/sonnets.txt').read()\n",
        "\n",
        "corpus = data.lower().split(\"\\n\")\n",
        "\n",
        "\n",
        "tokenizer.fit_on_texts(corpus)\n",
        "total_words = len(tokenizer.word_index) + 1\n",
        "\n",
        "# create input sequences using list of tokens\n",
        "input_sequences = []\n",
        "for line in corpus:\n",
        "\ttoken_list = tokenizer.texts_to_sequences([line])[0]\n",
        "\tfor i in range(1, len(token_list)):\n",
        "\t\tn_gram_sequence = token_list[:i+1]\n",
        "\t\tinput_sequences.append(n_gram_sequence)\n",
        "\n",
        "\n",
        "# pad sequences \n",
        "max_sequence_len = max([len(x) for x in input_sequences])\n",
        "input_sequences = np.array(pad_sequences(input_sequences, maxlen=max_sequence_len, padding='pre'))\n",
        "\n",
        "# create predictors and label\n",
        "predictors, label = input_sequences[:,:-1],input_sequences[:,-1]\n",
        "\n",
        "label = ku.to_categorical(label, num_classes=total_words)"
      ],
      "execution_count": 2,
      "outputs": [
        {
          "output_type": "stream",
          "text": [
            "--2019-09-03 13:55:23--  https://storage.googleapis.com/laurencemoroney-blog.appspot.com/sonnets.txt\n",
            "Resolving storage.googleapis.com (storage.googleapis.com)... 108.177.127.128, 2a00:1450:4013:c04::80\n",
            "Connecting to storage.googleapis.com (storage.googleapis.com)|108.177.127.128|:443... connected.\n",
            "HTTP request sent, awaiting response... 200 OK\n",
            "Length: 93578 (91K) [text/plain]\n",
            "Saving to: ‘/tmp/sonnets.txt’\n",
            "\n",
            "\r/tmp/sonnets.txt      0%[                    ]       0  --.-KB/s               \r/tmp/sonnets.txt    100%[===================>]  91.38K  --.-KB/s    in 0.001s  \n",
            "\n",
            "2019-09-03 13:55:23 (145 MB/s) - ‘/tmp/sonnets.txt’ saved [93578/93578]\n",
            "\n"
          ],
          "name": "stdout"
        }
      ]
    },
    {
      "cell_type": "code",
      "metadata": {
        "id": "w9vH8Y59ajYL",
        "colab_type": "code",
        "colab": {
          "base_uri": "https://localhost:8080/",
          "height": 666
        },
        "outputId": "822fd094-863f-4a35-d757-451d162ad1bb"
      },
      "source": [
        "model = Sequential()\n",
        "model.add(Embedding(total_words, 100, input_length=max_sequence_len-1)) # Your Embedding Layer\n",
        "model.add(Bidirectional(LSTM(150, return_sequences = True))) # An LSTM Layer\n",
        "model.add(Dropout(0.2)) # A dropout layer\n",
        "model.add(LSTM(100)) # Another LSTM Layer\n",
        "model.add(Dense(total_words/2, activation='relu', kernel_regularizer=regularizers.l2(0.01))) # A Dense Layer including regularizers\n",
        "model.add(Dense(total_words, activation='softmax')) # A Dense Layer\n",
        "# Pick an optimizer\n",
        "model.compile(loss='categorical_crossentropy', optimizer='adam', metrics=['accuracy']) # Pick a loss function and an optimizer\n",
        "print(model.summary())\n"
      ],
      "execution_count": 3,
      "outputs": [
        {
          "output_type": "stream",
          "text": [
            "WARNING: Logging before flag parsing goes to stderr.\n",
            "W0903 13:56:44.776433 140466442454912 deprecation.py:506] From /usr/local/lib/python2.7/dist-packages/tensorflow/python/keras/initializers.py:119: calling __init__ (from tensorflow.python.ops.init_ops) with dtype is deprecated and will be removed in a future version.\n",
            "Instructions for updating:\n",
            "Call initializer instance with the dtype argument instead of passing it to the constructor\n",
            "W0903 13:56:44.800431 140466442454912 deprecation.py:506] From /usr/local/lib/python2.7/dist-packages/tensorflow/python/ops/init_ops.py:1251: calling __init__ (from tensorflow.python.ops.init_ops) with dtype is deprecated and will be removed in a future version.\n",
            "Instructions for updating:\n",
            "Call initializer instance with the dtype argument instead of passing it to the constructor\n",
            "W0903 13:56:44.809245 140466442454912 deprecation.py:506] From /usr/local/lib/python2.7/dist-packages/tensorflow/python/ops/init_ops.py:97: calling __init__ (from tensorflow.python.ops.init_ops) with dtype is deprecated and will be removed in a future version.\n",
            "Instructions for updating:\n",
            "Call initializer instance with the dtype argument instead of passing it to the constructor\n",
            "W0903 13:56:44.810416 140466442454912 deprecation.py:506] From /usr/local/lib/python2.7/dist-packages/tensorflow/python/ops/init_ops.py:97: calling __init__ (from tensorflow.python.ops.init_ops) with dtype is deprecated and will be removed in a future version.\n",
            "Instructions for updating:\n",
            "Call initializer instance with the dtype argument instead of passing it to the constructor\n",
            "W0903 13:56:44.813836 140466442454912 deprecation.py:506] From /usr/local/lib/python2.7/dist-packages/tensorflow/python/ops/init_ops.py:97: calling __init__ (from tensorflow.python.ops.init_ops) with dtype is deprecated and will be removed in a future version.\n",
            "Instructions for updating:\n",
            "Call initializer instance with the dtype argument instead of passing it to the constructor\n"
          ],
          "name": "stderr"
        },
        {
          "output_type": "stream",
          "text": [
            "Model: \"sequential\"\n",
            "_________________________________________________________________\n",
            "Layer (type)                 Output Shape              Param #   \n",
            "=================================================================\n",
            "embedding (Embedding)        (None, 10, 100)           321100    \n",
            "_________________________________________________________________\n",
            "bidirectional (Bidirectional (None, 10, 300)           301200    \n",
            "_________________________________________________________________\n",
            "dropout (Dropout)            (None, 10, 300)           0         \n",
            "_________________________________________________________________\n",
            "lstm_1 (LSTM)                (None, 100)               160400    \n",
            "_________________________________________________________________\n",
            "dense (Dense)                (None, 1605)              162105    \n",
            "_________________________________________________________________\n",
            "dense_1 (Dense)              (None, 3211)              5156866   \n",
            "=================================================================\n",
            "Total params: 6,101,671\n",
            "Trainable params: 6,101,671\n",
            "Non-trainable params: 0\n",
            "_________________________________________________________________\n",
            "None\n"
          ],
          "name": "stdout"
        }
      ]
    },
    {
      "cell_type": "code",
      "metadata": {
        "id": "AIg2f1HBxqof",
        "colab_type": "code",
        "colab": {
          "base_uri": "https://localhost:8080/",
          "height": 1000
        },
        "outputId": "38d639eb-706a-4e2b-aaf8-c0b048b02926"
      },
      "source": [
        " history = model.fit(predictors, label, epochs=100, verbose=1)"
      ],
      "execution_count": 4,
      "outputs": [
        {
          "output_type": "stream",
          "text": [
            "W0903 13:56:50.263437 140466442454912 deprecation.py:323] From /usr/local/lib/python2.7/dist-packages/tensorflow/python/ops/math_grad.py:1250: where (from tensorflow.python.ops.array_ops) is deprecated and will be removed in a future version.\n",
            "Instructions for updating:\n",
            "Use tf.where in 2.0, which has the same broadcast rule as np.where\n"
          ],
          "name": "stderr"
        },
        {
          "output_type": "stream",
          "text": [
            "Epoch 1/100\n",
            "15462/15462 [==============================] - 27s 2ms/sample - loss: 6.9034 - acc: 0.0199\n",
            "Epoch 2/100\n",
            "15462/15462 [==============================] - 25s 2ms/sample - loss: 6.5016 - acc: 0.0229\n",
            "Epoch 3/100\n",
            "15462/15462 [==============================] - 26s 2ms/sample - loss: 6.3929 - acc: 0.0257\n",
            "Epoch 4/100\n",
            "15462/15462 [==============================] - 25s 2ms/sample - loss: 6.2669 - acc: 0.0308\n",
            "Epoch 5/100\n",
            "15462/15462 [==============================] - 26s 2ms/sample - loss: 6.1611 - acc: 0.0365\n",
            "Epoch 6/100\n",
            "15462/15462 [==============================] - 26s 2ms/sample - loss: 6.0736 - acc: 0.0378\n",
            "Epoch 7/100\n",
            "15462/15462 [==============================] - 26s 2ms/sample - loss: 5.9896 - acc: 0.0429\n",
            "Epoch 8/100\n",
            "15462/15462 [==============================] - 26s 2ms/sample - loss: 5.9090 - acc: 0.0470\n",
            "Epoch 9/100\n",
            "15462/15462 [==============================] - 26s 2ms/sample - loss: 5.8116 - acc: 0.0518\n",
            "Epoch 10/100\n",
            "15462/15462 [==============================] - 26s 2ms/sample - loss: 5.7034 - acc: 0.0579\n",
            "Epoch 11/100\n",
            "15462/15462 [==============================] - 26s 2ms/sample - loss: 5.5937 - acc: 0.0652\n",
            "Epoch 12/100\n",
            "15462/15462 [==============================] - 26s 2ms/sample - loss: 5.4887 - acc: 0.0703\n",
            "Epoch 13/100\n",
            "15462/15462 [==============================] - 26s 2ms/sample - loss: 5.3827 - acc: 0.0787\n",
            "Epoch 14/100\n",
            "15462/15462 [==============================] - 26s 2ms/sample - loss: 5.2789 - acc: 0.0848\n",
            "Epoch 15/100\n",
            "15462/15462 [==============================] - 26s 2ms/sample - loss: 5.1798 - acc: 0.0918\n",
            "Epoch 16/100\n",
            "15462/15462 [==============================] - 26s 2ms/sample - loss: 5.0787 - acc: 0.0966\n",
            "Epoch 17/100\n",
            "15462/15462 [==============================] - 26s 2ms/sample - loss: 4.9728 - acc: 0.1054\n",
            "Epoch 18/100\n",
            "15462/15462 [==============================] - 26s 2ms/sample - loss: 4.8746 - acc: 0.1149\n",
            "Epoch 19/100\n",
            "15462/15462 [==============================] - 25s 2ms/sample - loss: 4.7757 - acc: 0.1228\n",
            "Epoch 20/100\n",
            "15462/15462 [==============================] - 25s 2ms/sample - loss: 4.6728 - acc: 0.1339\n",
            "Epoch 21/100\n",
            "15462/15462 [==============================] - 25s 2ms/sample - loss: 4.5752 - acc: 0.1467\n",
            "Epoch 22/100\n",
            "15462/15462 [==============================] - 26s 2ms/sample - loss: 4.4739 - acc: 0.1555\n",
            "Epoch 23/100\n",
            "15462/15462 [==============================] - 26s 2ms/sample - loss: 4.3678 - acc: 0.1698\n",
            "Epoch 24/100\n",
            "15462/15462 [==============================] - 26s 2ms/sample - loss: 4.2697 - acc: 0.1818\n",
            "Epoch 25/100\n",
            "15462/15462 [==============================] - 26s 2ms/sample - loss: 4.1690 - acc: 0.1890\n",
            "Epoch 26/100\n",
            "15462/15462 [==============================] - 25s 2ms/sample - loss: 4.0643 - acc: 0.2053\n",
            "Epoch 27/100\n",
            "15462/15462 [==============================] - 25s 2ms/sample - loss: 3.9649 - acc: 0.2201\n",
            "Epoch 28/100\n",
            "15462/15462 [==============================] - 26s 2ms/sample - loss: 3.8626 - acc: 0.2348\n",
            "Epoch 29/100\n",
            "15462/15462 [==============================] - 25s 2ms/sample - loss: 3.7682 - acc: 0.2541\n",
            "Epoch 30/100\n",
            "15462/15462 [==============================] - 26s 2ms/sample - loss: 3.6725 - acc: 0.2729\n",
            "Epoch 31/100\n",
            "15462/15462 [==============================] - 26s 2ms/sample - loss: 3.5786 - acc: 0.2882\n",
            "Epoch 32/100\n",
            "15462/15462 [==============================] - 26s 2ms/sample - loss: 3.4748 - acc: 0.3108\n",
            "Epoch 33/100\n",
            "15462/15462 [==============================] - 26s 2ms/sample - loss: 3.3949 - acc: 0.3289\n",
            "Epoch 34/100\n",
            "15462/15462 [==============================] - 26s 2ms/sample - loss: 3.3104 - acc: 0.3445\n",
            "Epoch 35/100\n",
            "15462/15462 [==============================] - 26s 2ms/sample - loss: 3.2303 - acc: 0.3655\n",
            "Epoch 36/100\n",
            "15462/15462 [==============================] - 25s 2ms/sample - loss: 3.1561 - acc: 0.3802\n",
            "Epoch 37/100\n",
            "15462/15462 [==============================] - 25s 2ms/sample - loss: 3.0716 - acc: 0.4010\n",
            "Epoch 38/100\n",
            "15462/15462 [==============================] - 25s 2ms/sample - loss: 2.9935 - acc: 0.4157\n",
            "Epoch 39/100\n",
            "15462/15462 [==============================] - 28s 2ms/sample - loss: 2.9201 - acc: 0.4323\n",
            "Epoch 40/100\n",
            "15462/15462 [==============================] - 26s 2ms/sample - loss: 2.8494 - acc: 0.4510\n",
            "Epoch 41/100\n",
            "15462/15462 [==============================] - 26s 2ms/sample - loss: 2.7819 - acc: 0.4639\n",
            "Epoch 42/100\n",
            "15462/15462 [==============================] - 26s 2ms/sample - loss: 2.7163 - acc: 0.4795\n",
            "Epoch 43/100\n",
            "15462/15462 [==============================] - 26s 2ms/sample - loss: 2.6485 - acc: 0.4975\n",
            "Epoch 44/100\n",
            "15462/15462 [==============================] - 25s 2ms/sample - loss: 2.6051 - acc: 0.5050\n",
            "Epoch 45/100\n",
            "15462/15462 [==============================] - 25s 2ms/sample - loss: 2.5351 - acc: 0.5220\n",
            "Epoch 46/100\n",
            "15462/15462 [==============================] - 26s 2ms/sample - loss: 2.4800 - acc: 0.5352\n",
            "Epoch 47/100\n",
            "15462/15462 [==============================] - 26s 2ms/sample - loss: 2.4319 - acc: 0.5470\n",
            "Epoch 48/100\n",
            "15462/15462 [==============================] - 26s 2ms/sample - loss: 2.3723 - acc: 0.5570\n",
            "Epoch 49/100\n",
            "15462/15462 [==============================] - 26s 2ms/sample - loss: 2.3263 - acc: 0.5685\n",
            "Epoch 50/100\n",
            "15462/15462 [==============================] - 26s 2ms/sample - loss: 2.2789 - acc: 0.5818\n",
            "Epoch 51/100\n",
            "15462/15462 [==============================] - 26s 2ms/sample - loss: 2.2336 - acc: 0.5883\n",
            "Epoch 52/100\n",
            "15462/15462 [==============================] - 26s 2ms/sample - loss: 2.1926 - acc: 0.5963\n",
            "Epoch 53/100\n",
            "15462/15462 [==============================] - 26s 2ms/sample - loss: 2.1392 - acc: 0.6125\n",
            "Epoch 54/100\n",
            "15462/15462 [==============================] - 26s 2ms/sample - loss: 2.0974 - acc: 0.6165\n",
            "Epoch 55/100\n",
            "15462/15462 [==============================] - 26s 2ms/sample - loss: 2.0560 - acc: 0.6268\n",
            "Epoch 56/100\n",
            "15462/15462 [==============================] - 26s 2ms/sample - loss: 2.0256 - acc: 0.6301\n",
            "Epoch 57/100\n",
            "15462/15462 [==============================] - 26s 2ms/sample - loss: 1.9866 - acc: 0.6425\n",
            "Epoch 58/100\n",
            "15462/15462 [==============================] - 26s 2ms/sample - loss: 1.9322 - acc: 0.6519\n",
            "Epoch 59/100\n",
            "15462/15462 [==============================] - 26s 2ms/sample - loss: 1.9060 - acc: 0.6560\n",
            "Epoch 60/100\n",
            "15462/15462 [==============================] - 26s 2ms/sample - loss: 1.8679 - acc: 0.6676\n",
            "Epoch 61/100\n",
            "15462/15462 [==============================] - 26s 2ms/sample - loss: 1.8442 - acc: 0.6739\n",
            "Epoch 62/100\n",
            "15462/15462 [==============================] - 26s 2ms/sample - loss: 1.8058 - acc: 0.6816\n",
            "Epoch 63/100\n",
            "15462/15462 [==============================] - 26s 2ms/sample - loss: 1.7831 - acc: 0.6851\n",
            "Epoch 64/100\n",
            "15462/15462 [==============================] - 26s 2ms/sample - loss: 1.7479 - acc: 0.6914\n",
            "Epoch 65/100\n",
            "15462/15462 [==============================] - 26s 2ms/sample - loss: 1.7131 - acc: 0.7015\n",
            "Epoch 66/100\n",
            "15462/15462 [==============================] - 26s 2ms/sample - loss: 1.7089 - acc: 0.6999\n",
            "Epoch 67/100\n",
            "15462/15462 [==============================] - 27s 2ms/sample - loss: 1.6670 - acc: 0.7102\n",
            "Epoch 68/100\n",
            "15462/15462 [==============================] - 26s 2ms/sample - loss: 1.6400 - acc: 0.7141\n",
            "Epoch 69/100\n",
            "15462/15462 [==============================] - 26s 2ms/sample - loss: 1.6170 - acc: 0.7206\n",
            "Epoch 70/100\n",
            "15462/15462 [==============================] - 26s 2ms/sample - loss: 1.5919 - acc: 0.7211\n",
            "Epoch 71/100\n",
            "15462/15462 [==============================] - 26s 2ms/sample - loss: 1.5698 - acc: 0.7270\n",
            "Epoch 72/100\n",
            "15462/15462 [==============================] - 26s 2ms/sample - loss: 1.5423 - acc: 0.7319\n",
            "Epoch 73/100\n",
            "15462/15462 [==============================] - 26s 2ms/sample - loss: 1.5343 - acc: 0.7337\n",
            "Epoch 74/100\n",
            "15462/15462 [==============================] - 26s 2ms/sample - loss: 1.5120 - acc: 0.7365\n",
            "Epoch 75/100\n",
            "15462/15462 [==============================] - 26s 2ms/sample - loss: 1.4726 - acc: 0.7447\n",
            "Epoch 76/100\n",
            "15462/15462 [==============================] - 26s 2ms/sample - loss: 1.4529 - acc: 0.7504\n",
            "Epoch 77/100\n",
            "15462/15462 [==============================] - 26s 2ms/sample - loss: 1.4366 - acc: 0.7555\n",
            "Epoch 78/100\n",
            "15462/15462 [==============================] - 26s 2ms/sample - loss: 1.4242 - acc: 0.7550\n",
            "Epoch 79/100\n",
            "15462/15462 [==============================] - 26s 2ms/sample - loss: 1.4028 - acc: 0.7553\n",
            "Epoch 80/100\n",
            "15462/15462 [==============================] - 26s 2ms/sample - loss: 1.3754 - acc: 0.7615\n",
            "Epoch 81/100\n",
            "15462/15462 [==============================] - 26s 2ms/sample - loss: 1.3678 - acc: 0.7632\n",
            "Epoch 82/100\n",
            "15462/15462 [==============================] - 27s 2ms/sample - loss: 1.3676 - acc: 0.7643\n",
            "Epoch 83/100\n",
            "15462/15462 [==============================] - 26s 2ms/sample - loss: 1.3452 - acc: 0.7650\n",
            "Epoch 84/100\n",
            "15462/15462 [==============================] - 26s 2ms/sample - loss: 1.3317 - acc: 0.7703\n",
            "Epoch 85/100\n",
            "15462/15462 [==============================] - 26s 2ms/sample - loss: 1.3072 - acc: 0.7715\n",
            "Epoch 86/100\n",
            "15462/15462 [==============================] - 26s 2ms/sample - loss: 1.2960 - acc: 0.7787\n",
            "Epoch 87/100\n",
            "15462/15462 [==============================] - 26s 2ms/sample - loss: 1.2939 - acc: 0.7745\n",
            "Epoch 88/100\n",
            "15462/15462 [==============================] - 26s 2ms/sample - loss: 1.2753 - acc: 0.7763\n",
            "Epoch 89/100\n",
            "15462/15462 [==============================] - 26s 2ms/sample - loss: 1.2612 - acc: 0.7817\n",
            "Epoch 90/100\n",
            "15462/15462 [==============================] - 26s 2ms/sample - loss: 1.2433 - acc: 0.7875\n",
            "Epoch 91/100\n",
            "15462/15462 [==============================] - 26s 2ms/sample - loss: 1.2324 - acc: 0.7861\n",
            "Epoch 92/100\n",
            "15462/15462 [==============================] - 26s 2ms/sample - loss: 1.2259 - acc: 0.7873\n",
            "Epoch 93/100\n",
            "15462/15462 [==============================] - 26s 2ms/sample - loss: 1.2025 - acc: 0.7923\n",
            "Epoch 94/100\n",
            "15462/15462 [==============================] - 26s 2ms/sample - loss: 1.2027 - acc: 0.7895\n",
            "Epoch 95/100\n",
            "15462/15462 [==============================] - 26s 2ms/sample - loss: 1.1816 - acc: 0.7945\n",
            "Epoch 96/100\n",
            "15462/15462 [==============================] - 26s 2ms/sample - loss: 1.1742 - acc: 0.7962\n",
            "Epoch 97/100\n",
            "15462/15462 [==============================] - 26s 2ms/sample - loss: 1.1824 - acc: 0.7947\n",
            "Epoch 98/100\n",
            "15462/15462 [==============================] - 26s 2ms/sample - loss: 1.1583 - acc: 0.7988\n",
            "Epoch 99/100\n",
            "15462/15462 [==============================] - 26s 2ms/sample - loss: 1.1461 - acc: 0.7993\n",
            "Epoch 100/100\n",
            "15462/15462 [==============================] - 26s 2ms/sample - loss: 1.1313 - acc: 0.8048\n"
          ],
          "name": "stdout"
        }
      ]
    },
    {
      "cell_type": "code",
      "metadata": {
        "id": "1fXTEO3GJ282",
        "colab_type": "code",
        "colab": {
          "base_uri": "https://localhost:8080/",
          "height": 545
        },
        "outputId": "dc85c6a1-38f1-406d-905b-646b3c8b83a6"
      },
      "source": [
        "import matplotlib.pyplot as plt\n",
        "acc = history.history['acc']\n",
        "loss = history.history['loss']\n",
        "\n",
        "epochs = range(len(acc))\n",
        "\n",
        "plt.plot(epochs, acc, 'b', label='Training accuracy')\n",
        "plt.title('Training accuracy')\n",
        "\n",
        "plt.figure()\n",
        "\n",
        "plt.plot(epochs, loss, 'b', label='Training Loss')\n",
        "plt.title('Training loss')\n",
        "plt.legend()\n",
        "\n",
        "plt.show()"
      ],
      "execution_count": 5,
      "outputs": [
        {
          "output_type": "display_data",
          "data": {
            "image/png": "[encoded data removed]",
            "text/plain": [
              "<Figure size 432x288 with 1 Axes>"
            ]
          },
          "metadata": {
            "tags": []
          }
        },
        {
          "output_type": "display_data",
          "data": {
            "image/png": "[encoded data removed]",
            "text/plain": [
              "<Figure size 432x288 with 1 Axes>"
            ]
          },
          "metadata": {
            "tags": []
          }
        }
      ]
    },
    {
      "cell_type": "code",
      "metadata": {
        "id": "6Vc6PHgxa6Hm",
        "colab_type": "code",
        "colab": {
          "base_uri": "https://localhost:8080/",
          "height": 54
        },
        "outputId": "b32377a4-8b78-40e6-f5dd-51b0d7329e3b"
      },
      "source": [
        "seed_text = \"Help me Obi Wan Kenobi, you're my only hope\"\n",
        "next_words = 100\n",
        "  \n",
        "for _ in range(next_words):\n",
        "\ttoken_list = tokenizer.texts_to_sequences([seed_text])[0]\n",
        "\ttoken_list = pad_sequences([token_list], maxlen=max_sequence_len-1, padding='pre')\n",
        "\tpredicted = model.predict_classes(token_list, verbose=0)\n",
        "\toutput_word = \"\"\n",
        "\tfor word, index in tokenizer.word_index.items():\n",
        "\t\tif index == predicted:\n",
        "\t\t\toutput_word = word\n",
        "\t\t\tbreak\n",
        "\tseed_text += \" \" + output_word\n",
        "print(seed_text)"
      ],
      "execution_count": 6,
      "outputs": [
        {
          "output_type": "stream",
          "text": [
            "Help me Obi Wan Kenobi, you're my only hope being mute on stay ' bearing such life days be wrong leaves brow grow lack wide forth go wide wide deeds of this thyself dost groan shall chide thee one bright last still last go forth good ' bright best best go forth dyed live foes commend quite dumb bearing pleasure behind behind cross small friend hate pride forth to tell back tell still thee make go good allow quite make my grief forth twain be twain foes commend new pride forth young men taken taken behind place 'tis 'tis one joy some behind horse doth stell'd keep desired stay\n"
          ],
          "name": "stdout"
        }
      ]
    }
  ]
}