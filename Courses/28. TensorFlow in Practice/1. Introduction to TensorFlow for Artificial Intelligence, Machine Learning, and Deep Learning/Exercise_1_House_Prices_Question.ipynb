{
  "nbformat": 4,
  "nbformat_minor": 0,
  "metadata": {
    "colab": {
      "name": "Exercise 1 - House Prices - Question.ipynb",
      "version": "0.3.2",
      "provenance": [],
      "collapsed_sections": []
    },
    "kernelspec": {
      "name": "python3",
      "display_name": "Python 3"
    }
  },
  "cells": [
    {
      "metadata": {
        "id": "mw2VBrBcgvGa",
        "colab_type": "text"
      },
      "cell_type": "markdown",
      "source": [
        "In this exercise you'll try to build a neural network that predicts the price of a house according to a simple formula.\n",
        "\n",
        "So, imagine if house pricing was as easy as a house costs 50k + 50k per bedroom, so that a 1 bedroom house costs 100k, a 2 bedroom house costs 150k etc.\n",
        "\n",
        "How would you create a neural network that learns this relationship so that it would predict a 7 bedroom house as costing close to 400k etc.\n",
        "\n",
        "Hint: Your network might work better if you scale the house price down. You don't have to give the answer 400...it might be better to create something that predicts the number 4, and then your answer is in the 'hundreds of thousands' etc."
      ]
    },
    {
      "metadata": {
        "id": "PUNO2E6SeURH",
        "colab_type": "code",
        "outputId": "6ac1281f-2891-46fa-a285-6a82fd57ea9a",
        "colab": {
          "base_uri": "https://localhost:8080/",
          "height": 1115
        }
      },
      "cell_type": "code",
      "source": [
        "import tensorflow as tf\n",
        "import numpy as np\n",
        "from tensorflow import keras\n",
        "model = tf.keras.Sequential([keras.layers.Dense(units=1, input_shape=[1])])# Your Code Here#\n",
        "#model.compile(# Your Code Here#)\n",
        "model.compile(optimizer='sgd', loss='mean_squared_error')\n",
        "xs = np.array([1.0,  2.0, 3.0, 4.0, 5.0, 6.0], dtype=float)# Your Code Here#\n",
        "ys = np.array([1.0, 1.5, 2.0, 2.5, 3.0, 3.50], dtype=float)# Your Code Here#\n",
        "#model.fit(# Your Code here#)\n",
        "model.fit(xs, ys, epochs=30)\n",
        "print(model.predict([7.0]))"
      ],
      "execution_count": 0,
      "outputs": [
        {
          "output_type": "stream",
          "text": [
            "Epoch 1/30\n",
            "6/6 [==============================] - 0s 16ms/sample - loss: 0.2264\n",
            "Epoch 2/30\n",
            "6/6 [==============================] - 0s 1ms/sample - loss: 0.1328\n",
            "Epoch 3/30\n",
            "6/6 [==============================] - 0s 251us/sample - loss: 0.0892\n",
            "Epoch 4/30\n",
            "6/6 [==============================] - 0s 286us/sample - loss: 0.0688\n",
            "Epoch 5/30\n",
            "6/6 [==============================] - 0s 231us/sample - loss: 0.0592\n",
            "Epoch 6/30\n",
            "6/6 [==============================] - 0s 232us/sample - loss: 0.0546\n",
            "Epoch 7/30\n",
            "6/6 [==============================] - 0s 233us/sample - loss: 0.0522\n",
            "Epoch 8/30\n",
            "6/6 [==============================] - 0s 239us/sample - loss: 0.0509\n",
            "Epoch 9/30\n",
            "6/6 [==============================] - 0s 281us/sample - loss: 0.0501\n",
            "Epoch 10/30\n",
            "6/6 [==============================] - 0s 459us/sample - loss: 0.0496\n",
            "Epoch 11/30\n",
            "6/6 [==============================] - 0s 304us/sample - loss: 0.0491\n",
            "Epoch 12/30\n",
            "6/6 [==============================] - 0s 263us/sample - loss: 0.0487\n",
            "Epoch 13/30\n",
            "6/6 [==============================] - 0s 453us/sample - loss: 0.0484\n",
            "Epoch 14/30\n",
            "6/6 [==============================] - 0s 352us/sample - loss: 0.0480\n",
            "Epoch 15/30\n",
            "6/6 [==============================] - 0s 429us/sample - loss: 0.0476\n",
            "Epoch 16/30\n",
            "6/6 [==============================] - 0s 317us/sample - loss: 0.0473\n",
            "Epoch 17/30\n",
            "6/6 [==============================] - 0s 304us/sample - loss: 0.0470\n",
            "Epoch 18/30\n",
            "6/6 [==============================] - 0s 314us/sample - loss: 0.0466\n",
            "Epoch 19/30\n",
            "6/6 [==============================] - 0s 332us/sample - loss: 0.0463\n",
            "Epoch 20/30\n",
            "6/6 [==============================] - 0s 339us/sample - loss: 0.0459\n",
            "Epoch 21/30\n",
            "6/6 [==============================] - 0s 288us/sample - loss: 0.0456\n",
            "Epoch 22/30\n",
            "6/6 [==============================] - 0s 352us/sample - loss: 0.0453\n",
            "Epoch 23/30\n",
            "6/6 [==============================] - 0s 294us/sample - loss: 0.0449\n",
            "Epoch 24/30\n",
            "6/6 [==============================] - 0s 290us/sample - loss: 0.0446\n",
            "Epoch 25/30\n",
            "6/6 [==============================] - 0s 294us/sample - loss: 0.0443\n",
            "Epoch 26/30\n",
            "6/6 [==============================] - 0s 340us/sample - loss: 0.0440\n",
            "Epoch 27/30\n",
            "6/6 [==============================] - 0s 288us/sample - loss: 0.0436\n",
            "Epoch 28/30\n",
            "6/6 [==============================] - 0s 285us/sample - loss: 0.0433\n",
            "Epoch 29/30\n",
            "6/6 [==============================] - 0s 329us/sample - loss: 0.0430\n",
            "Epoch 30/30\n",
            "6/6 [==============================] - 0s 323us/sample - loss: 0.0427\n",
            "[[4.2980404]]\n"
          ],
          "name": "stdout"
        }
      ]
    }
  ]
}